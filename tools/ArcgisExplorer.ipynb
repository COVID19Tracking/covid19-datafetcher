{
 "cells": [
  {
   "cell_type": "markdown",
   "metadata": {},
   "source": [
    "# ArcGIS explorer\n",
    "Find layers, list them by name + last updated date"
   ]
  },
  {
   "cell_type": "code",
   "execution_count": 3,
   "metadata": {},
   "outputs": [],
   "source": [
    "import urllib, urllib.request\n",
    "import json\n",
    "import pandas as pd\n",
    "from datetime import datetime, timedelta\n",
    "\n",
    "def request(url, query=None, encoding=None):\n",
    "    if not encoding:\n",
    "        encoding = 'utf-8'\n",
    "        \n",
    "    url = urllib.parse.quote(url, safe=':/=?')    \n",
    "    if query:\n",
    "        url = \"{}?{}\".format(url, urllib.parse.urlencode(query))\n",
    "    res = {}\n",
    "    #req = urllib.request.Request(url, headers = {'User-Agent': 'Mozilla/5.0'})\n",
    "    with urllib.request.urlopen(url) as f:\n",
    "        res = f.read().decode(encoding)\n",
    "        res = json.loads(res)\n",
    "    return res"
   ]
  },
  {
   "cell_type": "code",
   "execution_count": 14,
   "metadata": {},
   "outputs": [],
   "source": [
    "# data\n",
    "url = 'https://services3.arcgis.com/66aUo8zsujfVXRIT/ArcGIS/rest/services'"
   ]
  },
  {
   "cell_type": "code",
   "execution_count": 15,
   "metadata": {},
   "outputs": [
    {
     "name": "stdout",
     "output_type": "stream",
     "text": [
      "URL =  https://services3.arcgis.com/66aUo8zsujfVXRIT/ArcGIS/rest/services\n"
     ]
    }
   ],
   "source": [
    "print(\"URL = \", url)\n",
    "# Get the list of services\n",
    "services = request(url, {'f': 'pjson'})\n",
    "collect_layers = []\n",
    "for service in services.get('services', []):\n",
    "    service_url = service.get('url')\n",
    "    layers = request(\"{}/layers?f=pjson\".format(service_url))\n",
    "    for layer in layers.get('layers', []):\n",
    "        collect_layers.append({            \n",
    "            'name': layer.get('name'),\n",
    "            'lastUpdate': layer.get('editingInfo', {}).get('lastEditDate'),\n",
    "            'url': service_url + \"/{}\".format(layer.get('id')),\n",
    "            'service': service.get('name')\n",
    "        })\n",
    "    for layer in layers.get('tables', []):\n",
    "        collect_layers.append({            \n",
    "            'name': layer.get('name'),\n",
    "            'lastUpdate': layer.get('editingInfo', {}).get('lastEditDate'),\n",
    "            'url': service_url + \"/{}\".format(layer.get('id')),\n",
    "            'service': service.get('name') \n",
    "        })\n",
    "\n",
    "df = pd.json_normalize(collect_layers)"
   ]
  },
  {
   "cell_type": "code",
   "execution_count": 16,
   "metadata": {},
   "outputs": [
    {
     "data": {
      "text/html": [
       "<style  type=\"text/css\" >\n",
       "</style><table id=\"T_9a637aa2_b4b2_11ea_869c_d736ba99166d\" ><thead>    <tr>        <th class=\"blank level0\" ></th>        <th class=\"col_heading level0 col0\" >name</th>        <th class=\"col_heading level0 col1\" >lastUpdate</th>        <th class=\"col_heading level0 col2\" >url</th>        <th class=\"col_heading level0 col3\" >service</th>    </tr></thead><tbody>\n",
       "                <tr>\n",
       "                        <th id=\"T_9a637aa2_b4b2_11ea_869c_d736ba99166dlevel0_row0\" class=\"row_heading level0 row0\" >13</th>\n",
       "                        <td id=\"T_9a637aa2_b4b2_11ea_869c_d736ba99166drow0_col0\" class=\"data row0 col0\" >colorado_covid19_state_statistics_cumulative</td>\n",
       "                        <td id=\"T_9a637aa2_b4b2_11ea_869c_d736ba99166drow0_col1\" class=\"data row0 col1\" >2020-06-21 22:22:56.186000</td>\n",
       "                        <td id=\"T_9a637aa2_b4b2_11ea_869c_d736ba99166drow0_col2\" class=\"data row0 col2\" ><a href=\"https://services3.arcgis.com/66aUo8zsujfVXRIT/ArcGIS/rest/services/colorado_covid19_state_statistics_cumulative/FeatureServer/0\">link</a></td>\n",
       "                        <td id=\"T_9a637aa2_b4b2_11ea_869c_d736ba99166drow0_col3\" class=\"data row0 col3\" >colorado_covid19_state_statistics_cumulative</td>\n",
       "            </tr>\n",
       "            <tr>\n",
       "                        <th id=\"T_9a637aa2_b4b2_11ea_869c_d736ba99166dlevel0_row1\" class=\"row_heading level0 row1\" >10</th>\n",
       "                        <td id=\"T_9a637aa2_b4b2_11ea_869c_d736ba99166drow1_col0\" class=\"data row1 col0\" >colorado_covid19_daily_state_statistics_cumulative</td>\n",
       "                        <td id=\"T_9a637aa2_b4b2_11ea_869c_d736ba99166drow1_col1\" class=\"data row1 col1\" >2020-06-21 22:16:40.714000</td>\n",
       "                        <td id=\"T_9a637aa2_b4b2_11ea_869c_d736ba99166drow1_col2\" class=\"data row1 col2\" ><a href=\"https://services3.arcgis.com/66aUo8zsujfVXRIT/ArcGIS/rest/services/colorado_covid19_daily_state_statistics_cumulative/FeatureServer/0\">link</a></td>\n",
       "                        <td id=\"T_9a637aa2_b4b2_11ea_869c_d736ba99166drow1_col3\" class=\"data row1 col3\" >colorado_covid19_daily_state_statistics_cumulative</td>\n",
       "            </tr>\n",
       "            <tr>\n",
       "                        <th id=\"T_9a637aa2_b4b2_11ea_869c_d736ba99166dlevel0_row2\" class=\"row_heading level0 row2\" >11</th>\n",
       "                        <td id=\"T_9a637aa2_b4b2_11ea_869c_d736ba99166drow2_col0\" class=\"data row2 col0\" >colorado_covid19_laboratory_positivity_data</td>\n",
       "                        <td id=\"T_9a637aa2_b4b2_11ea_869c_d736ba99166drow2_col1\" class=\"data row2 col1\" >2020-06-21 22:15:45.398000</td>\n",
       "                        <td id=\"T_9a637aa2_b4b2_11ea_869c_d736ba99166drow2_col2\" class=\"data row2 col2\" ><a href=\"https://services3.arcgis.com/66aUo8zsujfVXRIT/ArcGIS/rest/services/colorado_covid19_laboratory_positivity_data/FeatureServer/0\">link</a></td>\n",
       "                        <td id=\"T_9a637aa2_b4b2_11ea_869c_d736ba99166drow2_col3\" class=\"data row2 col3\" >colorado_covid19_laboratory_positivity_data</td>\n",
       "            </tr>\n",
       "            <tr>\n",
       "                        <th id=\"T_9a637aa2_b4b2_11ea_869c_d736ba99166dlevel0_row3\" class=\"row_heading level0 row3\" >9</th>\n",
       "                        <td id=\"T_9a637aa2_b4b2_11ea_869c_d736ba99166drow3_col0\" class=\"data row3 col0\" >colorado_covid19_county_statistics_cumulative</td>\n",
       "                        <td id=\"T_9a637aa2_b4b2_11ea_869c_d736ba99166drow3_col1\" class=\"data row3 col1\" >2020-06-21 22:13:28.183000</td>\n",
       "                        <td id=\"T_9a637aa2_b4b2_11ea_869c_d736ba99166drow3_col2\" class=\"data row3 col2\" ><a href=\"https://services3.arcgis.com/66aUo8zsujfVXRIT/ArcGIS/rest/services/colorado_covid19_county_statistics_cumulative/FeatureServer/0\">link</a></td>\n",
       "                        <td id=\"T_9a637aa2_b4b2_11ea_869c_d736ba99166drow3_col3\" class=\"data row3 col3\" >colorado_covid19_county_statistics_cumulative</td>\n",
       "            </tr>\n",
       "            <tr>\n",
       "                        <th id=\"T_9a637aa2_b4b2_11ea_869c_d736ba99166dlevel0_row4\" class=\"row_heading level0 row4\" >12</th>\n",
       "                        <td id=\"T_9a637aa2_b4b2_11ea_869c_d736ba99166drow4_col0\" class=\"data row4 col0\" >colorado_cdphe_covid19_county_id_rate</td>\n",
       "                        <td id=\"T_9a637aa2_b4b2_11ea_869c_d736ba99166drow4_col1\" class=\"data row4 col1\" >2020-06-21 21:59:41.226000</td>\n",
       "                        <td id=\"T_9a637aa2_b4b2_11ea_869c_d736ba99166drow4_col2\" class=\"data row4 col2\" ><a href=\"https://services3.arcgis.com/66aUo8zsujfVXRIT/ArcGIS/rest/services/Colorado_COVID19_Positive_Cases/FeatureServer/0\">link</a></td>\n",
       "                        <td id=\"T_9a637aa2_b4b2_11ea_869c_d736ba99166drow4_col3\" class=\"data row4 col3\" >Colorado_COVID19_Positive_Cases</td>\n",
       "            </tr>\n",
       "    </tbody></table>"
      ],
      "text/plain": [
       "<pandas.io.formats.style.Styler at 0x7fc2c8c868d0>"
      ]
     },
     "execution_count": 16,
     "metadata": {},
     "output_type": "execute_result"
    }
   ],
   "source": [
    "df['lastUpdate'] = pd.to_datetime(df['lastUpdate'],unit='ms')\n",
    "\n",
    "url_df = df.loc[df['lastUpdate'] > (datetime.now() - timedelta(days=4))]\n",
    "url_df = url_df.sort_values('lastUpdate', ascending=False)\n",
    "# TODO: \n",
    "# [x] Filter out layers older than 1w\n",
    "# [ ] Fetch column names for all the new ones\n",
    "url_df.style.format({'url': lambda x: \"<a href=\\\"{}\\\">link</a>\".format(x)})"
   ]
  },
  {
   "cell_type": "code",
   "execution_count": 65,
   "metadata": {},
   "outputs": [
    {
     "data": {
      "text/plain": [
       "datetime.datetime(2020, 6, 2, 19, 48, 56, 320157)"
      ]
     },
     "execution_count": 65,
     "metadata": {},
     "output_type": "execute_result"
    }
   ],
   "source": []
  }
 ],
 "metadata": {
  "kernelspec": {
   "display_name": "Python 3",
   "language": "python",
   "name": "python3"
  },
  "language_info": {
   "codemirror_mode": {
    "name": "ipython",
    "version": 3
   },
   "file_extension": ".py",
   "mimetype": "text/x-python",
   "name": "python",
   "nbconvert_exporter": "python",
   "pygments_lexer": "ipython3",
   "version": "3.7.6"
  }
 },
 "nbformat": 4,
 "nbformat_minor": 4
}
