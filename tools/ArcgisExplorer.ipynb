{
 "cells": [
  {
   "cell_type": "markdown",
   "metadata": {},
   "source": [
    "# ArcGIS explorer\n",
    "Find layers, list them by name + last updated date"
   ]
  },
  {
   "cell_type": "code",
   "execution_count": 2,
   "metadata": {},
   "outputs": [],
   "source": [
    "import urllib, urllib.request\n",
    "import json\n",
    "import pandas as pd\n",
    "from datetime import datetime, timedelta\n",
    "\n",
    "def request(url, query=None, encoding=None):\n",
    "    if not encoding:\n",
    "        encoding = 'utf-8'\n",
    "        \n",
    "    url = urllib.parse.quote(url, safe=':/=?')    \n",
    "    if query:\n",
    "        url = \"{}?{}\".format(url, urllib.parse.urlencode(query))\n",
    "    res = {}\n",
    "    #req = urllib.request.Request(url, headers = {'User-Agent': 'Mozilla/5.0'})\n",
    "    with urllib.request.urlopen(url) as f:\n",
    "        res = f.read().decode(encoding)\n",
    "        res = json.loads(res)\n",
    "    return res"
   ]
  },
  {
   "cell_type": "code",
   "execution_count": 25,
   "metadata": {},
   "outputs": [],
   "source": [
    "# data\n",
    "url = 'http://atlas.wvgs.wvnet.edu/arcgis/rest/'"
   ]
  },
  {
   "cell_type": "code",
   "execution_count": 27,
   "metadata": {},
   "outputs": [
    {
     "name": "stdout",
     "output_type": "stream",
     "text": [
      "URL =  http://atlas.wvgs.wvnet.edu/arcgis/rest/\n"
     ]
    },
    {
     "ename": "ValueError",
     "evalue": "unknown url type: 'None/layers?f=pjson'",
     "output_type": "error",
     "traceback": [
      "\u001b[0;31m---------------------------------------------------------------------------\u001b[0m",
      "\u001b[0;31mValueError\u001b[0m                                Traceback (most recent call last)",
      "\u001b[0;32m<ipython-input-27-fc6c80979f6e>\u001b[0m in \u001b[0;36m<module>\u001b[0;34m\u001b[0m\n\u001b[1;32m      5\u001b[0m \u001b[0;32mfor\u001b[0m \u001b[0mservice\u001b[0m \u001b[0;32min\u001b[0m \u001b[0mservices\u001b[0m\u001b[0;34m.\u001b[0m\u001b[0mget\u001b[0m\u001b[0;34m(\u001b[0m\u001b[0;34m'services'\u001b[0m\u001b[0;34m,\u001b[0m \u001b[0;34m[\u001b[0m\u001b[0;34m]\u001b[0m\u001b[0;34m)\u001b[0m\u001b[0;34m:\u001b[0m\u001b[0;34m\u001b[0m\u001b[0;34m\u001b[0m\u001b[0m\n\u001b[1;32m      6\u001b[0m     \u001b[0mservice_url\u001b[0m \u001b[0;34m=\u001b[0m \u001b[0mservice\u001b[0m\u001b[0;34m.\u001b[0m\u001b[0mget\u001b[0m\u001b[0;34m(\u001b[0m\u001b[0;34m'url'\u001b[0m\u001b[0;34m)\u001b[0m\u001b[0;34m\u001b[0m\u001b[0;34m\u001b[0m\u001b[0m\n\u001b[0;32m----> 7\u001b[0;31m     \u001b[0mlayers\u001b[0m \u001b[0;34m=\u001b[0m \u001b[0mrequest\u001b[0m\u001b[0;34m(\u001b[0m\u001b[0;34m\"{}/layers?f=pjson\"\u001b[0m\u001b[0;34m.\u001b[0m\u001b[0mformat\u001b[0m\u001b[0;34m(\u001b[0m\u001b[0mservice_url\u001b[0m\u001b[0;34m)\u001b[0m\u001b[0;34m)\u001b[0m\u001b[0;34m\u001b[0m\u001b[0;34m\u001b[0m\u001b[0m\n\u001b[0m\u001b[1;32m      8\u001b[0m     \u001b[0;32mfor\u001b[0m \u001b[0mlayer\u001b[0m \u001b[0;32min\u001b[0m \u001b[0mlayers\u001b[0m\u001b[0;34m.\u001b[0m\u001b[0mget\u001b[0m\u001b[0;34m(\u001b[0m\u001b[0;34m'layers'\u001b[0m\u001b[0;34m,\u001b[0m \u001b[0;34m[\u001b[0m\u001b[0;34m]\u001b[0m\u001b[0;34m)\u001b[0m\u001b[0;34m:\u001b[0m\u001b[0;34m\u001b[0m\u001b[0;34m\u001b[0m\u001b[0m\n\u001b[1;32m      9\u001b[0m         collect_layers.append({            \n",
      "\u001b[0;32m<ipython-input-2-d3dbd0d9f5cb>\u001b[0m in \u001b[0;36mrequest\u001b[0;34m(url, query, encoding)\u001b[0m\n\u001b[1;32m     13\u001b[0m     \u001b[0mres\u001b[0m \u001b[0;34m=\u001b[0m \u001b[0;34m{\u001b[0m\u001b[0;34m}\u001b[0m\u001b[0;34m\u001b[0m\u001b[0;34m\u001b[0m\u001b[0m\n\u001b[1;32m     14\u001b[0m     \u001b[0;31m#req = urllib.request.Request(url, headers = {'User-Agent': 'Mozilla/5.0'})\u001b[0m\u001b[0;34m\u001b[0m\u001b[0;34m\u001b[0m\u001b[0;34m\u001b[0m\u001b[0m\n\u001b[0;32m---> 15\u001b[0;31m     \u001b[0;32mwith\u001b[0m \u001b[0murllib\u001b[0m\u001b[0;34m.\u001b[0m\u001b[0mrequest\u001b[0m\u001b[0;34m.\u001b[0m\u001b[0murlopen\u001b[0m\u001b[0;34m(\u001b[0m\u001b[0murl\u001b[0m\u001b[0;34m)\u001b[0m \u001b[0;32mas\u001b[0m \u001b[0mf\u001b[0m\u001b[0;34m:\u001b[0m\u001b[0;34m\u001b[0m\u001b[0;34m\u001b[0m\u001b[0m\n\u001b[0m\u001b[1;32m     16\u001b[0m         \u001b[0mres\u001b[0m \u001b[0;34m=\u001b[0m \u001b[0mf\u001b[0m\u001b[0;34m.\u001b[0m\u001b[0mread\u001b[0m\u001b[0;34m(\u001b[0m\u001b[0;34m)\u001b[0m\u001b[0;34m.\u001b[0m\u001b[0mdecode\u001b[0m\u001b[0;34m(\u001b[0m\u001b[0mencoding\u001b[0m\u001b[0;34m)\u001b[0m\u001b[0;34m\u001b[0m\u001b[0;34m\u001b[0m\u001b[0m\n\u001b[1;32m     17\u001b[0m         \u001b[0mres\u001b[0m \u001b[0;34m=\u001b[0m \u001b[0mjson\u001b[0m\u001b[0;34m.\u001b[0m\u001b[0mloads\u001b[0m\u001b[0;34m(\u001b[0m\u001b[0mres\u001b[0m\u001b[0;34m)\u001b[0m\u001b[0;34m\u001b[0m\u001b[0;34m\u001b[0m\u001b[0m\n",
      "\u001b[0;32m~/programming/miniconda3/lib/python3.7/urllib/request.py\u001b[0m in \u001b[0;36murlopen\u001b[0;34m(url, data, timeout, cafile, capath, cadefault, context)\u001b[0m\n\u001b[1;32m    220\u001b[0m     \u001b[0;32melse\u001b[0m\u001b[0;34m:\u001b[0m\u001b[0;34m\u001b[0m\u001b[0;34m\u001b[0m\u001b[0m\n\u001b[1;32m    221\u001b[0m         \u001b[0mopener\u001b[0m \u001b[0;34m=\u001b[0m \u001b[0m_opener\u001b[0m\u001b[0;34m\u001b[0m\u001b[0;34m\u001b[0m\u001b[0m\n\u001b[0;32m--> 222\u001b[0;31m     \u001b[0;32mreturn\u001b[0m \u001b[0mopener\u001b[0m\u001b[0;34m.\u001b[0m\u001b[0mopen\u001b[0m\u001b[0;34m(\u001b[0m\u001b[0murl\u001b[0m\u001b[0;34m,\u001b[0m \u001b[0mdata\u001b[0m\u001b[0;34m,\u001b[0m \u001b[0mtimeout\u001b[0m\u001b[0;34m)\u001b[0m\u001b[0;34m\u001b[0m\u001b[0;34m\u001b[0m\u001b[0m\n\u001b[0m\u001b[1;32m    223\u001b[0m \u001b[0;34m\u001b[0m\u001b[0m\n\u001b[1;32m    224\u001b[0m \u001b[0;32mdef\u001b[0m \u001b[0minstall_opener\u001b[0m\u001b[0;34m(\u001b[0m\u001b[0mopener\u001b[0m\u001b[0;34m)\u001b[0m\u001b[0;34m:\u001b[0m\u001b[0;34m\u001b[0m\u001b[0;34m\u001b[0m\u001b[0m\n",
      "\u001b[0;32m~/programming/miniconda3/lib/python3.7/urllib/request.py\u001b[0m in \u001b[0;36mopen\u001b[0;34m(self, fullurl, data, timeout)\u001b[0m\n\u001b[1;32m    508\u001b[0m         \u001b[0;31m# accept a URL or a Request object\u001b[0m\u001b[0;34m\u001b[0m\u001b[0;34m\u001b[0m\u001b[0;34m\u001b[0m\u001b[0m\n\u001b[1;32m    509\u001b[0m         \u001b[0;32mif\u001b[0m \u001b[0misinstance\u001b[0m\u001b[0;34m(\u001b[0m\u001b[0mfullurl\u001b[0m\u001b[0;34m,\u001b[0m \u001b[0mstr\u001b[0m\u001b[0;34m)\u001b[0m\u001b[0;34m:\u001b[0m\u001b[0;34m\u001b[0m\u001b[0;34m\u001b[0m\u001b[0m\n\u001b[0;32m--> 510\u001b[0;31m             \u001b[0mreq\u001b[0m \u001b[0;34m=\u001b[0m \u001b[0mRequest\u001b[0m\u001b[0;34m(\u001b[0m\u001b[0mfullurl\u001b[0m\u001b[0;34m,\u001b[0m \u001b[0mdata\u001b[0m\u001b[0;34m)\u001b[0m\u001b[0;34m\u001b[0m\u001b[0;34m\u001b[0m\u001b[0m\n\u001b[0m\u001b[1;32m    511\u001b[0m         \u001b[0;32melse\u001b[0m\u001b[0;34m:\u001b[0m\u001b[0;34m\u001b[0m\u001b[0;34m\u001b[0m\u001b[0m\n\u001b[1;32m    512\u001b[0m             \u001b[0mreq\u001b[0m \u001b[0;34m=\u001b[0m \u001b[0mfullurl\u001b[0m\u001b[0;34m\u001b[0m\u001b[0;34m\u001b[0m\u001b[0m\n",
      "\u001b[0;32m~/programming/miniconda3/lib/python3.7/urllib/request.py\u001b[0m in \u001b[0;36m__init__\u001b[0;34m(self, url, data, headers, origin_req_host, unverifiable, method)\u001b[0m\n\u001b[1;32m    326\u001b[0m                  \u001b[0morigin_req_host\u001b[0m\u001b[0;34m=\u001b[0m\u001b[0;32mNone\u001b[0m\u001b[0;34m,\u001b[0m \u001b[0munverifiable\u001b[0m\u001b[0;34m=\u001b[0m\u001b[0;32mFalse\u001b[0m\u001b[0;34m,\u001b[0m\u001b[0;34m\u001b[0m\u001b[0;34m\u001b[0m\u001b[0m\n\u001b[1;32m    327\u001b[0m                  method=None):\n\u001b[0;32m--> 328\u001b[0;31m         \u001b[0mself\u001b[0m\u001b[0;34m.\u001b[0m\u001b[0mfull_url\u001b[0m \u001b[0;34m=\u001b[0m \u001b[0murl\u001b[0m\u001b[0;34m\u001b[0m\u001b[0;34m\u001b[0m\u001b[0m\n\u001b[0m\u001b[1;32m    329\u001b[0m         \u001b[0mself\u001b[0m\u001b[0;34m.\u001b[0m\u001b[0mheaders\u001b[0m \u001b[0;34m=\u001b[0m \u001b[0;34m{\u001b[0m\u001b[0;34m}\u001b[0m\u001b[0;34m\u001b[0m\u001b[0;34m\u001b[0m\u001b[0m\n\u001b[1;32m    330\u001b[0m         \u001b[0mself\u001b[0m\u001b[0;34m.\u001b[0m\u001b[0munredirected_hdrs\u001b[0m \u001b[0;34m=\u001b[0m \u001b[0;34m{\u001b[0m\u001b[0;34m}\u001b[0m\u001b[0;34m\u001b[0m\u001b[0;34m\u001b[0m\u001b[0m\n",
      "\u001b[0;32m~/programming/miniconda3/lib/python3.7/urllib/request.py\u001b[0m in \u001b[0;36mfull_url\u001b[0;34m(self, url)\u001b[0m\n\u001b[1;32m    352\u001b[0m         \u001b[0mself\u001b[0m\u001b[0;34m.\u001b[0m\u001b[0m_full_url\u001b[0m \u001b[0;34m=\u001b[0m \u001b[0munwrap\u001b[0m\u001b[0;34m(\u001b[0m\u001b[0murl\u001b[0m\u001b[0;34m)\u001b[0m\u001b[0;34m\u001b[0m\u001b[0;34m\u001b[0m\u001b[0m\n\u001b[1;32m    353\u001b[0m         \u001b[0mself\u001b[0m\u001b[0;34m.\u001b[0m\u001b[0m_full_url\u001b[0m\u001b[0;34m,\u001b[0m \u001b[0mself\u001b[0m\u001b[0;34m.\u001b[0m\u001b[0mfragment\u001b[0m \u001b[0;34m=\u001b[0m \u001b[0msplittag\u001b[0m\u001b[0;34m(\u001b[0m\u001b[0mself\u001b[0m\u001b[0;34m.\u001b[0m\u001b[0m_full_url\u001b[0m\u001b[0;34m)\u001b[0m\u001b[0;34m\u001b[0m\u001b[0;34m\u001b[0m\u001b[0m\n\u001b[0;32m--> 354\u001b[0;31m         \u001b[0mself\u001b[0m\u001b[0;34m.\u001b[0m\u001b[0m_parse\u001b[0m\u001b[0;34m(\u001b[0m\u001b[0;34m)\u001b[0m\u001b[0;34m\u001b[0m\u001b[0;34m\u001b[0m\u001b[0m\n\u001b[0m\u001b[1;32m    355\u001b[0m \u001b[0;34m\u001b[0m\u001b[0m\n\u001b[1;32m    356\u001b[0m     \u001b[0;34m@\u001b[0m\u001b[0mfull_url\u001b[0m\u001b[0;34m.\u001b[0m\u001b[0mdeleter\u001b[0m\u001b[0;34m\u001b[0m\u001b[0;34m\u001b[0m\u001b[0m\n",
      "\u001b[0;32m~/programming/miniconda3/lib/python3.7/urllib/request.py\u001b[0m in \u001b[0;36m_parse\u001b[0;34m(self)\u001b[0m\n\u001b[1;32m    381\u001b[0m         \u001b[0mself\u001b[0m\u001b[0;34m.\u001b[0m\u001b[0mtype\u001b[0m\u001b[0;34m,\u001b[0m \u001b[0mrest\u001b[0m \u001b[0;34m=\u001b[0m \u001b[0msplittype\u001b[0m\u001b[0;34m(\u001b[0m\u001b[0mself\u001b[0m\u001b[0;34m.\u001b[0m\u001b[0m_full_url\u001b[0m\u001b[0;34m)\u001b[0m\u001b[0;34m\u001b[0m\u001b[0;34m\u001b[0m\u001b[0m\n\u001b[1;32m    382\u001b[0m         \u001b[0;32mif\u001b[0m \u001b[0mself\u001b[0m\u001b[0;34m.\u001b[0m\u001b[0mtype\u001b[0m \u001b[0;32mis\u001b[0m \u001b[0;32mNone\u001b[0m\u001b[0;34m:\u001b[0m\u001b[0;34m\u001b[0m\u001b[0;34m\u001b[0m\u001b[0m\n\u001b[0;32m--> 383\u001b[0;31m             \u001b[0;32mraise\u001b[0m \u001b[0mValueError\u001b[0m\u001b[0;34m(\u001b[0m\u001b[0;34m\"unknown url type: %r\"\u001b[0m \u001b[0;34m%\u001b[0m \u001b[0mself\u001b[0m\u001b[0;34m.\u001b[0m\u001b[0mfull_url\u001b[0m\u001b[0;34m)\u001b[0m\u001b[0;34m\u001b[0m\u001b[0;34m\u001b[0m\u001b[0m\n\u001b[0m\u001b[1;32m    384\u001b[0m         \u001b[0mself\u001b[0m\u001b[0;34m.\u001b[0m\u001b[0mhost\u001b[0m\u001b[0;34m,\u001b[0m \u001b[0mself\u001b[0m\u001b[0;34m.\u001b[0m\u001b[0mselector\u001b[0m \u001b[0;34m=\u001b[0m \u001b[0msplithost\u001b[0m\u001b[0;34m(\u001b[0m\u001b[0mrest\u001b[0m\u001b[0;34m)\u001b[0m\u001b[0;34m\u001b[0m\u001b[0;34m\u001b[0m\u001b[0m\n\u001b[1;32m    385\u001b[0m         \u001b[0;32mif\u001b[0m \u001b[0mself\u001b[0m\u001b[0;34m.\u001b[0m\u001b[0mhost\u001b[0m\u001b[0;34m:\u001b[0m\u001b[0;34m\u001b[0m\u001b[0;34m\u001b[0m\u001b[0m\n",
      "\u001b[0;31mValueError\u001b[0m: unknown url type: 'None/layers?f=pjson'"
     ]
    }
   ],
   "source": [
    "print(\"URL = \", url)\n",
    "# Get the list of services\n",
    "services = request(url, {'f': 'pjson'})\n",
    "collect_layers = []\n",
    "for service in services.get('services', []):\n",
    "    service_url = service.get('url')\n",
    "    layers = request(\"{}/layers?f=pjson\".format(service_url))\n",
    "    for layer in layers.get('layers', []):\n",
    "        collect_layers.append({            \n",
    "            'name': layer.get('name'),\n",
    "            'lastUpdate': layer.get('editingInfo', {}).get('lastEditDate'),\n",
    "            'url': service_url + \"/{}\".format(layer.get('id')),\n",
    "            'service': service.get('name')\n",
    "        })\n",
    "    for layer in layers.get('tables', []):\n",
    "        collect_layers.append({            \n",
    "            'name': layer.get('name'),\n",
    "            'lastUpdate': layer.get('editingInfo', {}).get('lastEditDate'),\n",
    "            'url': service_url + \"/{}\".format(layer.get('id')),\n",
    "            'service': service.get('name') \n",
    "        })\n",
    "\n",
    "df = pd.json_normalize(collect_layers)"
   ]
  },
  {
   "cell_type": "code",
   "execution_count": 24,
   "metadata": {},
   "outputs": [
    {
     "data": {
      "text/html": [
       "<style  type=\"text/css\" >\n",
       "</style><table id=\"T_6384f18a_add9_11ea_b094_b9d996e29f93\" ><thead>    <tr>        <th class=\"blank level0\" ></th>        <th class=\"col_heading level0 col0\" >name</th>        <th class=\"col_heading level0 col1\" >lastUpdate</th>        <th class=\"col_heading level0 col2\" >url</th>        <th class=\"col_heading level0 col3\" >service</th>    </tr></thead><tbody>\n",
       "                <tr>\n",
       "                        <th id=\"T_6384f18a_add9_11ea_b094_b9d996e29f93level0_row0\" class=\"row_heading level0 row0\" >8</th>\n",
       "                        <td id=\"T_6384f18a_add9_11ea_b094_b9d996e29f93row0_col0\" class=\"data row0 col0\" >COVID_Over_Time</td>\n",
       "                        <td id=\"T_6384f18a_add9_11ea_b094_b9d996e29f93row0_col1\" class=\"data row0 col1\" >2020-06-13 15:39:22.932000</td>\n",
       "                        <td id=\"T_6384f18a_add9_11ea_b094_b9d996e29f93row0_col2\" class=\"data row0 col2\" ><a href=\"https://services7.arcgis.com/BAwfvDcDhIO9Rm6L/ArcGIS/rest/services/COVID_Over_Time_VIEW/FeatureServer/0\">link</a></td>\n",
       "                        <td id=\"T_6384f18a_add9_11ea_b094_b9d996e29f93row0_col3\" class=\"data row0 col3\" >COVID_Over_Time_VIEW</td>\n",
       "            </tr>\n",
       "            <tr>\n",
       "                        <th id=\"T_6384f18a_add9_11ea_b094_b9d996e29f93level0_row1\" class=\"row_heading level0 row1\" >6</th>\n",
       "                        <td id=\"T_6384f18a_add9_11ea_b094_b9d996e29f93row1_col0\" class=\"data row1 col0\" >Case Totals</td>\n",
       "                        <td id=\"T_6384f18a_add9_11ea_b094_b9d996e29f93row1_col1\" class=\"data row1 col1\" >2020-06-13 15:20:01.721000</td>\n",
       "                        <td id=\"T_6384f18a_add9_11ea_b094_b9d996e29f93row1_col2\" class=\"data row1 col2\" ><a href=\"https://services7.arcgis.com/BAwfvDcDhIO9Rm6L/ArcGIS/rest/services/COVID_Case_Totals_VIEW/FeatureServer/0\">link</a></td>\n",
       "                        <td id=\"T_6384f18a_add9_11ea_b094_b9d996e29f93row1_col3\" class=\"data row1 col3\" >COVID_Case_Totals_VIEW</td>\n",
       "            </tr>\n",
       "            <tr>\n",
       "                        <th id=\"T_6384f18a_add9_11ea_b094_b9d996e29f93level0_row2\" class=\"row_heading level0 row2\" >7</th>\n",
       "                        <td id=\"T_6384f18a_add9_11ea_b094_b9d996e29f93row2_col0\" class=\"data row2 col0\" >COVID_Daily_Count</td>\n",
       "                        <td id=\"T_6384f18a_add9_11ea_b094_b9d996e29f93row2_col1\" class=\"data row2 col1\" >2020-06-13 15:13:35.849000</td>\n",
       "                        <td id=\"T_6384f18a_add9_11ea_b094_b9d996e29f93row2_col2\" class=\"data row2 col2\" ><a href=\"https://services7.arcgis.com/BAwfvDcDhIO9Rm6L/ArcGIS/rest/services/COVID_Daily_Count_VIEW/FeatureServer/0\">link</a></td>\n",
       "                        <td id=\"T_6384f18a_add9_11ea_b094_b9d996e29f93row2_col3\" class=\"data row2 col3\" >COVID_Daily_Count_VIEW</td>\n",
       "            </tr>\n",
       "            <tr>\n",
       "                        <th id=\"T_6384f18a_add9_11ea_b094_b9d996e29f93level0_row3\" class=\"row_heading level0 row3\" >12</th>\n",
       "                        <td id=\"T_6384f18a_add9_11ea_b094_b9d996e29f93row3_col0\" class=\"data row3 col0\" >survey</td>\n",
       "                        <td id=\"T_6384f18a_add9_11ea_b094_b9d996e29f93row3_col1\" class=\"data row3 col1\" >2020-06-12 20:57:26.451000</td>\n",
       "                        <td id=\"T_6384f18a_add9_11ea_b094_b9d996e29f93row3_col2\" class=\"data row3 col2\" ><a href=\"https://services7.arcgis.com/BAwfvDcDhIO9Rm6L/ArcGIS/rest/services/Search_and_Rescue_VIEW/FeatureServer/0\">link</a></td>\n",
       "                        <td id=\"T_6384f18a_add9_11ea_b094_b9d996e29f93row3_col3\" class=\"data row3 col3\" >Search_and_Rescue_VIEW</td>\n",
       "            </tr>\n",
       "            <tr>\n",
       "                        <th id=\"T_6384f18a_add9_11ea_b094_b9d996e29f93level0_row4\" class=\"row_heading level0 row4\" >13</th>\n",
       "                        <td id=\"T_6384f18a_add9_11ea_b094_b9d996e29f93row4_col0\" class=\"data row4 col0\" >survey</td>\n",
       "                        <td id=\"T_6384f18a_add9_11ea_b094_b9d996e29f93row4_col1\" class=\"data row4 col1\" >2020-06-12 20:57:26.451000</td>\n",
       "                        <td id=\"T_6384f18a_add9_11ea_b094_b9d996e29f93row4_col2\" class=\"data row4 col2\" ><a href=\"https://services7.arcgis.com/BAwfvDcDhIO9Rm6L/ArcGIS/rest/services/survey123_be1716ec92ea466d82c4b6e6043ae563_fieldworker/FeatureServer/0\">link</a></td>\n",
       "                        <td id=\"T_6384f18a_add9_11ea_b094_b9d996e29f93row4_col3\" class=\"data row4 col3\" >survey123_be1716ec92ea466d82c4b6e6043ae563_fieldworker</td>\n",
       "            </tr>\n",
       "            <tr>\n",
       "                        <th id=\"T_6384f18a_add9_11ea_b094_b9d996e29f93level0_row5\" class=\"row_heading level0 row5\" >10</th>\n",
       "                        <td id=\"T_6384f18a_add9_11ea_b094_b9d996e29f93row5_col0\" class=\"data row5 col0\" >HealthcareCoalitions_1</td>\n",
       "                        <td id=\"T_6384f18a_add9_11ea_b094_b9d996e29f93row5_col1\" class=\"data row5 col1\" >2020-06-10 20:32:54.013000</td>\n",
       "                        <td id=\"T_6384f18a_add9_11ea_b094_b9d996e29f93row5_col2\" class=\"data row5 col2\" ><a href=\"https://services7.arcgis.com/BAwfvDcDhIO9Rm6L/ArcGIS/rest/services/HealthcareCoalitions_1_VIEW/FeatureServer/0\">link</a></td>\n",
       "                        <td id=\"T_6384f18a_add9_11ea_b094_b9d996e29f93row5_col3\" class=\"data row5 col3\" >HealthcareCoalitions_1_VIEW</td>\n",
       "            </tr>\n",
       "            <tr>\n",
       "                        <th id=\"T_6384f18a_add9_11ea_b094_b9d996e29f93level0_row6\" class=\"row_heading level0 row6\" >14</th>\n",
       "                        <td id=\"T_6384f18a_add9_11ea_b094_b9d996e29f93row6_col0\" class=\"data row6 col0\" >TraumaHospitals</td>\n",
       "                        <td id=\"T_6384f18a_add9_11ea_b094_b9d996e29f93row6_col1\" class=\"data row6 col1\" >2020-06-10 14:16:05.968000</td>\n",
       "                        <td id=\"T_6384f18a_add9_11ea_b094_b9d996e29f93row6_col2\" class=\"data row6 col2\" ><a href=\"https://services7.arcgis.com/BAwfvDcDhIO9Rm6L/ArcGIS/rest/services/Trauma_Hospitals_VIEW/FeatureServer/0\">link</a></td>\n",
       "                        <td id=\"T_6384f18a_add9_11ea_b094_b9d996e29f93row6_col3\" class=\"data row6 col3\" >Trauma_Hospitals_VIEW</td>\n",
       "            </tr>\n",
       "            <tr>\n",
       "                        <th id=\"T_6384f18a_add9_11ea_b094_b9d996e29f93level0_row7\" class=\"row_heading level0 row7\" >9</th>\n",
       "                        <td id=\"T_6384f18a_add9_11ea_b094_b9d996e29f93row7_col0\" class=\"data row7 col0\" >Healthcare Coalitions</td>\n",
       "                        <td id=\"T_6384f18a_add9_11ea_b094_b9d996e29f93row7_col1\" class=\"data row7 col1\" >2020-06-10 14:15:18.137000</td>\n",
       "                        <td id=\"T_6384f18a_add9_11ea_b094_b9d996e29f93row7_col2\" class=\"data row7 col2\" ><a href=\"https://services7.arcgis.com/BAwfvDcDhIO9Rm6L/ArcGIS/rest/services/Healthcare_Coalitions_VIEW/FeatureServer/0\">link</a></td>\n",
       "                        <td id=\"T_6384f18a_add9_11ea_b094_b9d996e29f93row7_col3\" class=\"data row7 col3\" >Healthcare_Coalitions_VIEW</td>\n",
       "            </tr>\n",
       "            <tr>\n",
       "                        <th id=\"T_6384f18a_add9_11ea_b094_b9d996e29f93level0_row8\" class=\"row_heading level0 row8\" >15</th>\n",
       "                        <td id=\"T_6384f18a_add9_11ea_b094_b9d996e29f93row8_col0\" class=\"data row8 col0\" >Trauma Regions</td>\n",
       "                        <td id=\"T_6384f18a_add9_11ea_b094_b9d996e29f93row8_col1\" class=\"data row8 col1\" >2020-06-10 14:10:31.872000</td>\n",
       "                        <td id=\"T_6384f18a_add9_11ea_b094_b9d996e29f93row8_col2\" class=\"data row8 col2\" ><a href=\"https://services7.arcgis.com/BAwfvDcDhIO9Rm6L/ArcGIS/rest/services/Trauma_Regions_VIEW/FeatureServer/0\">link</a></td>\n",
       "                        <td id=\"T_6384f18a_add9_11ea_b094_b9d996e29f93row8_col3\" class=\"data row8 col3\" >Trauma_Regions_VIEW</td>\n",
       "            </tr>\n",
       "            <tr>\n",
       "                        <th id=\"T_6384f18a_add9_11ea_b094_b9d996e29f93level0_row9\" class=\"row_heading level0 row9\" >18</th>\n",
       "                        <td id=\"T_6384f18a_add9_11ea_b094_b9d996e29f93row9_col0\" class=\"data row9 col0\" >Wyoming Counties</td>\n",
       "                        <td id=\"T_6384f18a_add9_11ea_b094_b9d996e29f93row9_col1\" class=\"data row9 col1\" >2020-06-10 14:08:54.910000</td>\n",
       "                        <td id=\"T_6384f18a_add9_11ea_b094_b9d996e29f93row9_col2\" class=\"data row9 col2\" ><a href=\"https://services7.arcgis.com/BAwfvDcDhIO9Rm6L/ArcGIS/rest/services/Wyoming_Counties_VIEW/FeatureServer/0\">link</a></td>\n",
       "                        <td id=\"T_6384f18a_add9_11ea_b094_b9d996e29f93row9_col3\" class=\"data row9 col3\" >Wyoming_Counties_VIEW</td>\n",
       "            </tr>\n",
       "    </tbody></table>"
      ],
      "text/plain": [
       "<pandas.io.formats.style.Styler at 0x7f8f82f51f90>"
      ]
     },
     "execution_count": 24,
     "metadata": {},
     "output_type": "execute_result"
    }
   ],
   "source": [
    "df['lastUpdate'] = pd.to_datetime(df['lastUpdate'],unit='ms')\n",
    "\n",
    "url_df = df.loc[df['lastUpdate'] > (datetime.now() - timedelta(days=8))]\n",
    "url_df = url_df.sort_values('lastUpdate', ascending=False)\n",
    "# TODO: \n",
    "# [x] Filter out layers older than 1w\n",
    "# [ ] Fetch column names for all the new ones\n",
    "url_df.style.format({'url': lambda x: \"<a href=\\\"{}\\\">link</a>\".format(x)})"
   ]
  },
  {
   "cell_type": "code",
   "execution_count": 65,
   "metadata": {},
   "outputs": [
    {
     "data": {
      "text/plain": [
       "datetime.datetime(2020, 6, 2, 19, 48, 56, 320157)"
      ]
     },
     "execution_count": 65,
     "metadata": {},
     "output_type": "execute_result"
    }
   ],
   "source": []
  }
 ],
 "metadata": {
  "kernelspec": {
   "display_name": "Python 3",
   "language": "python",
   "name": "python3"
  },
  "language_info": {
   "codemirror_mode": {
    "name": "ipython",
    "version": 3
   },
   "file_extension": ".py",
   "mimetype": "text/x-python",
   "name": "python",
   "nbconvert_exporter": "python",
   "pygments_lexer": "ipython3",
   "version": "3.7.6"
  }
 },
 "nbformat": 4,
 "nbformat_minor": 4
}
