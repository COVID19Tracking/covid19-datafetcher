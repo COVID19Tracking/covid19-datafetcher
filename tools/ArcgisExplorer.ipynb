{
 "cells": [
  {
   "cell_type": "markdown",
   "metadata": {},
   "source": [
    "# ArcGIS explorer\n",
    "Find layers, list them by name + last updated date"
   ]
  },
  {
   "cell_type": "code",
   "execution_count": 64,
   "metadata": {},
   "outputs": [],
   "source": [
    "import urllib, urllib.request\n",
    "import json\n",
    "import pandas as pd\n",
    "from datetime import datetime, timedelta\n",
    "\n",
    "def request(url, query=None, encoding=None):\n",
    "    if not encoding:\n",
    "        encoding = 'utf-8'\n",
    "        \n",
    "    url = urllib.parse.quote(url, safe=':/=?')    \n",
    "    if query:\n",
    "        url = \"{}?{}\".format(url, urllib.parse.urlencode(query))\n",
    "    res = {}\n",
    "    #req = urllib.request.Request(url, headers = {'User-Agent': 'Mozilla/5.0'})\n",
    "    with urllib.request.urlopen(url) as f:\n",
    "        res = f.read().decode(encoding)\n",
    "        res = json.loads(res)\n",
    "    return res"
   ]
  },
  {
   "cell_type": "code",
   "execution_count": 67,
   "metadata": {},
   "outputs": [],
   "source": [
    "# data\n",
    "url = 'https://services3.arcgis.com/66aUo8zsujfVXRIT/ArcGIS/rest/services'"
   ]
  },
  {
   "cell_type": "code",
   "execution_count": 74,
   "metadata": {},
   "outputs": [
    {
     "name": "stdout",
     "output_type": "stream",
     "text": [
      "URL =  https://services3.arcgis.com/66aUo8zsujfVXRIT/ArcGIS/rest/services\n"
     ]
    }
   ],
   "source": [
    "print(\"URL = \", url)\n",
    "# Get the list of services\n",
    "services = request(url, {'f': 'pjson'})\n",
    "collect_layers = []\n",
    "for service in services.get('services', []):\n",
    "    service_url = service.get('url')\n",
    "    layers = request(\"{}/layers?f=pjson\".format(service_url))\n",
    "    for layer in layers.get('layers', []):\n",
    "        collect_layers.append({            \n",
    "            'name': layer.get('name'),\n",
    "            'lastUpdate': layer.get('editingInfo', {}).get('lastEditDate'),\n",
    "            'url': service_url + \"/{}\".format(layer.get('id'))\n",
    "            'service': service.get('name')\n",
    "        })\n",
    "    for layer in layers.get('tables', []):\n",
    "        collect_layers.append({            \n",
    "            'name': layer.get('name'),\n",
    "            'lastUpdate': layer.get('editingInfo', {}).get('lastEditDate'),\n",
    "            'url': service_url + \"/{}\".format(layer.get('id')),\n",
    "            'service': service.get('name') \n",
    "        })\n",
    "\n",
    "df = pd.json_normalize(collect_layers)"
   ]
  },
  {
   "cell_type": "code",
   "execution_count": 75,
   "metadata": {},
   "outputs": [
    {
     "data": {
      "text/html": [
       "<style  type=\"text/css\" >\n",
       "</style><table id=\"T_3731ed4a_ab90_11ea_96be_01a3feda2a19\" ><thead>    <tr>        <th class=\"blank level0\" ></th>        <th class=\"col_heading level0 col0\" >name</th>        <th class=\"col_heading level0 col1\" >lastUpdate</th>        <th class=\"col_heading level0 col2\" >url</th>        <th class=\"col_heading level0 col3\" >service</th>    </tr></thead><tbody>\n",
       "                <tr>\n",
       "                        <th id=\"T_3731ed4a_ab90_11ea_96be_01a3feda2a19level0_row0\" class=\"row_heading level0 row0\" >13</th>\n",
       "                        <td id=\"T_3731ed4a_ab90_11ea_96be_01a3feda2a19row0_col0\" class=\"data row0 col0\" >colorado_covid19_state_statistics_cumulative</td>\n",
       "                        <td id=\"T_3731ed4a_ab90_11ea_96be_01a3feda2a19row0_col1\" class=\"data row0 col1\" >2020-06-10 22:39:57.669000</td>\n",
       "                        <td id=\"T_3731ed4a_ab90_11ea_96be_01a3feda2a19row0_col2\" class=\"data row0 col2\" ><a href=\"https://services3.arcgis.com/66aUo8zsujfVXRIT/ArcGIS/rest/services/colorado_covid19_state_statistics_cumulative/FeatureServer/0\">link</a></td>\n",
       "                        <td id=\"T_3731ed4a_ab90_11ea_96be_01a3feda2a19row0_col3\" class=\"data row0 col3\" >colorado_covid19_state_statistics_cumulative</td>\n",
       "            </tr>\n",
       "            <tr>\n",
       "                        <th id=\"T_3731ed4a_ab90_11ea_96be_01a3feda2a19level0_row1\" class=\"row_heading level0 row1\" >9</th>\n",
       "                        <td id=\"T_3731ed4a_ab90_11ea_96be_01a3feda2a19row1_col0\" class=\"data row1 col0\" >colorado_covid19_county_statistics_cumulative</td>\n",
       "                        <td id=\"T_3731ed4a_ab90_11ea_96be_01a3feda2a19row1_col1\" class=\"data row1 col1\" >2020-06-10 22:38:49.998000</td>\n",
       "                        <td id=\"T_3731ed4a_ab90_11ea_96be_01a3feda2a19row1_col2\" class=\"data row1 col2\" ><a href=\"https://services3.arcgis.com/66aUo8zsujfVXRIT/ArcGIS/rest/services/colorado_covid19_county_statistics_cumulative/FeatureServer/0\">link</a></td>\n",
       "                        <td id=\"T_3731ed4a_ab90_11ea_96be_01a3feda2a19row1_col3\" class=\"data row1 col3\" >colorado_covid19_county_statistics_cumulative</td>\n",
       "            </tr>\n",
       "            <tr>\n",
       "                        <th id=\"T_3731ed4a_ab90_11ea_96be_01a3feda2a19level0_row2\" class=\"row_heading level0 row2\" >11</th>\n",
       "                        <td id=\"T_3731ed4a_ab90_11ea_96be_01a3feda2a19row2_col0\" class=\"data row2 col0\" >colorado_covid19_laboratory_positivity_data</td>\n",
       "                        <td id=\"T_3731ed4a_ab90_11ea_96be_01a3feda2a19row2_col1\" class=\"data row2 col1\" >2020-06-10 22:33:08.605000</td>\n",
       "                        <td id=\"T_3731ed4a_ab90_11ea_96be_01a3feda2a19row2_col2\" class=\"data row2 col2\" ><a href=\"https://services3.arcgis.com/66aUo8zsujfVXRIT/ArcGIS/rest/services/colorado_covid19_laboratory_positivity_data/FeatureServer/0\">link</a></td>\n",
       "                        <td id=\"T_3731ed4a_ab90_11ea_96be_01a3feda2a19row2_col3\" class=\"data row2 col3\" >colorado_covid19_laboratory_positivity_data</td>\n",
       "            </tr>\n",
       "            <tr>\n",
       "                        <th id=\"T_3731ed4a_ab90_11ea_96be_01a3feda2a19level0_row3\" class=\"row_heading level0 row3\" >10</th>\n",
       "                        <td id=\"T_3731ed4a_ab90_11ea_96be_01a3feda2a19row3_col0\" class=\"data row3 col0\" >colorado_covid19_daily_state_statistics_cumulative</td>\n",
       "                        <td id=\"T_3731ed4a_ab90_11ea_96be_01a3feda2a19row3_col1\" class=\"data row3 col1\" >2020-06-10 22:29:09.649000</td>\n",
       "                        <td id=\"T_3731ed4a_ab90_11ea_96be_01a3feda2a19row3_col2\" class=\"data row3 col2\" ><a href=\"https://services3.arcgis.com/66aUo8zsujfVXRIT/ArcGIS/rest/services/colorado_covid19_daily_state_statistics_cumulative/FeatureServer/0\">link</a></td>\n",
       "                        <td id=\"T_3731ed4a_ab90_11ea_96be_01a3feda2a19row3_col3\" class=\"data row3 col3\" >colorado_covid19_daily_state_statistics_cumulative</td>\n",
       "            </tr>\n",
       "            <tr>\n",
       "                        <th id=\"T_3731ed4a_ab90_11ea_96be_01a3feda2a19level0_row4\" class=\"row_heading level0 row4\" >12</th>\n",
       "                        <td id=\"T_3731ed4a_ab90_11ea_96be_01a3feda2a19row4_col0\" class=\"data row4 col0\" >colorado_cdphe_covid19_county_id_rate</td>\n",
       "                        <td id=\"T_3731ed4a_ab90_11ea_96be_01a3feda2a19row4_col1\" class=\"data row4 col1\" >2020-06-10 22:00:38.115000</td>\n",
       "                        <td id=\"T_3731ed4a_ab90_11ea_96be_01a3feda2a19row4_col2\" class=\"data row4 col2\" ><a href=\"https://services3.arcgis.com/66aUo8zsujfVXRIT/ArcGIS/rest/services/Colorado_COVID19_Positive_Cases/FeatureServer/0\">link</a></td>\n",
       "                        <td id=\"T_3731ed4a_ab90_11ea_96be_01a3feda2a19row4_col3\" class=\"data row4 col3\" >nan</td>\n",
       "            </tr>\n",
       "            <tr>\n",
       "                        <th id=\"T_3731ed4a_ab90_11ea_96be_01a3feda2a19level0_row5\" class=\"row_heading level0 row5\" >7</th>\n",
       "                        <td id=\"T_3731ed4a_ab90_11ea_96be_01a3feda2a19row5_col0\" class=\"data row5 col0\" >active_cog315_jun2020</td>\n",
       "                        <td id=\"T_3731ed4a_ab90_11ea_96be_01a3feda2a19row5_col1\" class=\"data row5 col1\" >2020-06-09 19:25:17</td>\n",
       "                        <td id=\"T_3731ed4a_ab90_11ea_96be_01a3feda2a19row5_col2\" class=\"data row5 col2\" ><a href=\"https://services3.arcgis.com/66aUo8zsujfVXRIT/ArcGIS/rest/services/COG315/FeatureServer/0\">link</a></td>\n",
       "                        <td id=\"T_3731ed4a_ab90_11ea_96be_01a3feda2a19row5_col3\" class=\"data row5 col3\" >nan</td>\n",
       "            </tr>\n",
       "            <tr>\n",
       "                        <th id=\"T_3731ed4a_ab90_11ea_96be_01a3feda2a19level0_row6\" class=\"row_heading level0 row6\" >8</th>\n",
       "                        <td id=\"T_3731ed4a_ab90_11ea_96be_01a3feda2a19row6_col0\" class=\"data row6 col0\" >term_cog315_jun2020</td>\n",
       "                        <td id=\"T_3731ed4a_ab90_11ea_96be_01a3feda2a19row6_col1\" class=\"data row6 col1\" >2020-06-09 19:25:17</td>\n",
       "                        <td id=\"T_3731ed4a_ab90_11ea_96be_01a3feda2a19row6_col2\" class=\"data row6 col2\" ><a href=\"https://services3.arcgis.com/66aUo8zsujfVXRIT/ArcGIS/rest/services/COG315/FeatureServer/1\">link</a></td>\n",
       "                        <td id=\"T_3731ed4a_ab90_11ea_96be_01a3feda2a19row6_col3\" class=\"data row6 col3\" >nan</td>\n",
       "            </tr>\n",
       "            <tr>\n",
       "                        <th id=\"T_3731ed4a_ab90_11ea_96be_01a3feda2a19level0_row7\" class=\"row_heading level0 row7\" >17</th>\n",
       "                        <td id=\"T_3731ed4a_ab90_11ea_96be_01a3feda2a19row7_col0\" class=\"data row7 col0\" >courier_city_schedule</td>\n",
       "                        <td id=\"T_3731ed4a_ab90_11ea_96be_01a3feda2a19row7_col1\" class=\"data row7 col1\" >2020-06-08 15:31:50.460000</td>\n",
       "                        <td id=\"T_3731ed4a_ab90_11ea_96be_01a3feda2a19row7_col2\" class=\"data row7 col2\" ><a href=\"https://services3.arcgis.com/66aUo8zsujfVXRIT/ArcGIS/rest/services/Courier_Schedule_by_City/FeatureServer/0\">link</a></td>\n",
       "                        <td id=\"T_3731ed4a_ab90_11ea_96be_01a3feda2a19row7_col3\" class=\"data row7 col3\" >nan</td>\n",
       "            </tr>\n",
       "            <tr>\n",
       "                        <th id=\"T_3731ed4a_ab90_11ea_96be_01a3feda2a19level0_row8\" class=\"row_heading level0 row8\" >2</th>\n",
       "                        <td id=\"T_3731ed4a_ab90_11ea_96be_01a3feda2a19row8_col0\" class=\"data row8 col0\" >Dental</td>\n",
       "                        <td id=\"T_3731ed4a_ab90_11ea_96be_01a3feda2a19row8_col1\" class=\"data row8 col1\" >2020-06-07 15:35:00.110000</td>\n",
       "                        <td id=\"T_3731ed4a_ab90_11ea_96be_01a3feda2a19row8_col2\" class=\"data row8 col2\" ><a href=\"https://services3.arcgis.com/66aUo8zsujfVXRIT/ArcGIS/rest/services/CDPHE_CDA_Dental_Facilities_April_2020/FeatureServer/0\">link</a></td>\n",
       "                        <td id=\"T_3731ed4a_ab90_11ea_96be_01a3feda2a19row8_col3\" class=\"data row8 col3\" >nan</td>\n",
       "            </tr>\n",
       "            <tr>\n",
       "                        <th id=\"T_3731ed4a_ab90_11ea_96be_01a3feda2a19level0_row9\" class=\"row_heading level0 row9\" >34</th>\n",
       "                        <td id=\"T_3731ed4a_ab90_11ea_96be_01a3feda2a19row9_col0\" class=\"data row9 col0\" >Streams_2020</td>\n",
       "                        <td id=\"T_3731ed4a_ab90_11ea_96be_01a3feda2a19row9_col1\" class=\"data row9 col1\" >2020-06-04 23:10:31.796000</td>\n",
       "                        <td id=\"T_3731ed4a_ab90_11ea_96be_01a3feda2a19row9_col2\" class=\"data row9 col2\" ><a href=\"https://services3.arcgis.com/66aUo8zsujfVXRIT/ArcGIS/rest/services/Streams_2020/FeatureServer/0\">link</a></td>\n",
       "                        <td id=\"T_3731ed4a_ab90_11ea_96be_01a3feda2a19row9_col3\" class=\"data row9 col3\" >nan</td>\n",
       "            </tr>\n",
       "    </tbody></table>"
      ],
      "text/plain": [
       "<pandas.io.formats.style.Styler at 0x7fd7e003dbd0>"
      ]
     },
     "execution_count": 75,
     "metadata": {},
     "output_type": "execute_result"
    }
   ],
   "source": [
    "df['lastUpdate'] = pd.to_datetime(df['lastUpdate'],unit='ms')\n",
    "\n",
    "url_df = df.loc[df['lastUpdate'] > (datetime.now() - timedelta(days=8))]\n",
    "url_df = url_df.sort_values('lastUpdate', ascending=False)\n",
    "# TODO: \n",
    "# [x] Filter out layers older than 1w\n",
    "# [ ] Fetch column names for all the new ones\n",
    "url_df.style.format({'url': lambda x: \"<a href=\\\"{}\\\">link</a>\".format(x)})"
   ]
  },
  {
   "cell_type": "code",
   "execution_count": 65,
   "metadata": {},
   "outputs": [
    {
     "data": {
      "text/plain": [
       "datetime.datetime(2020, 6, 2, 19, 48, 56, 320157)"
      ]
     },
     "execution_count": 65,
     "metadata": {},
     "output_type": "execute_result"
    }
   ],
   "source": []
  }
 ],
 "metadata": {
  "kernelspec": {
   "display_name": "Python 3",
   "language": "python",
   "name": "python3"
  },
  "language_info": {
   "codemirror_mode": {
    "name": "ipython",
    "version": 3
   },
   "file_extension": ".py",
   "mimetype": "text/x-python",
   "name": "python",
   "nbconvert_exporter": "python",
   "pygments_lexer": "ipython3",
   "version": "3.7.6"
  }
 },
 "nbformat": 4,
 "nbformat_minor": 4
}
