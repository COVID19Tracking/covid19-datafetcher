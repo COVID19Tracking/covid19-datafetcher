{
 "cells": [
  {
   "cell_type": "markdown",
   "metadata": {},
   "source": [
    "# ArcGIS explorer\n",
    "Find layers, list them by name + last updated date"
   ]
  },
  {
   "cell_type": "code",
   "execution_count": 4,
   "metadata": {},
   "outputs": [],
   "source": [
    "# data\n",
    "url = 'https://services5.arcgis.com/ZqUZ99cjRiEOyN05/ArcGIS/rest/services'"
   ]
  },
  {
   "cell_type": "code",
   "execution_count": 64,
   "metadata": {},
   "outputs": [],
   "source": [
    "import urllib, urllib.request\n",
    "import json\n",
    "import pandas as pd\n",
    "from datetime import datetime, timedelta\n",
    "\n",
    "def request(url, query=None, encoding=None):\n",
    "    if not encoding:\n",
    "        encoding = 'utf-8'\n",
    "        \n",
    "    url = urllib.parse.quote(url, safe=':/=?')    \n",
    "    if query:\n",
    "        url = \"{}?{}\".format(url, urllib.parse.urlencode(query))\n",
    "    res = {}\n",
    "    #req = urllib.request.Request(url, headers = {'User-Agent': 'Mozilla/5.0'})\n",
    "    with urllib.request.urlopen(url) as f:\n",
    "        res = f.read().decode(encoding)\n",
    "        res = json.loads(res)\n",
    "    return res"
   ]
  },
  {
   "cell_type": "code",
   "execution_count": 49,
   "metadata": {
    "jupyter": {
     "source_hidden": true
    }
   },
   "outputs": [
    {
     "name": "stdout",
     "output_type": "stream",
     "text": [
      "URL =  https://services5.arcgis.com/ZqUZ99cjRiEOyN05/ArcGIS/rest/services\n"
     ]
    }
   ],
   "source": [
    "print(\"URL = \", url)\n",
    "# Get the list of services\n",
    "services = request(url, {'f': 'pjson'})\n",
    "collect_layers = []\n",
    "for service in services.get('services', []):\n",
    "    service_url = service.get('url')\n",
    "    # for each service, query the service and list layers\n",
    "    #https://services5.arcgis.com/ZqUZ99cjRiEOyN05/ArcGIS/rest/services/A4qgq/FeatureServer/layers?f=pjson\n",
    "    # \"editingInfo\" : {\n",
    "#         \"lastEditDate\" : 1588020085149\n",
    "#       }, \n",
    "    layers = request(\"{}/layers?f=pjson\".format(service_url))\n",
    "    for layer in layers.get('layers', []):\n",
    "        collect_layers.append({\n",
    "            'name': layer.get('name'),\n",
    "            'lastUpdate': layer.get('editingInfo', {}).get('lastEditDate'),\n",
    "            'url': service_url + \"/{}\".format(layer.get('id'))\n",
    "        })\n",
    "\n",
    "df = pd.json_normalize(collect_layers)"
   ]
  },
  {
   "cell_type": "code",
   "execution_count": 66,
   "metadata": {},
   "outputs": [
    {
     "data": {
      "text/html": [
       "<style  type=\"text/css\" >\n",
       "</style><table id=\"T_271dbc1a_ab8e_11ea_96be_01a3feda2a19\" ><thead>    <tr>        <th class=\"blank level0\" ></th>        <th class=\"col_heading level0 col0\" >name</th>        <th class=\"col_heading level0 col1\" >lastUpdate</th>        <th class=\"col_heading level0 col2\" >url</th>    </tr></thead><tbody>\n",
       "                <tr>\n",
       "                        <th id=\"T_271dbc1a_ab8e_11ea_96be_01a3feda2a19level0_row0\" class=\"row_heading level0 row0\" >134</th>\n",
       "                        <td id=\"T_271dbc1a_ab8e_11ea_96be_01a3feda2a19row0_col0\" class=\"data row0 col0\" >Self_Reporting_Survey</td>\n",
       "                        <td id=\"T_271dbc1a_ab8e_11ea_96be_01a3feda2a19row0_col1\" class=\"data row0 col1\" >2020-06-10 23:43:28.245000</td>\n",
       "                        <td id=\"T_271dbc1a_ab8e_11ea_96be_01a3feda2a19row0_col2\" class=\"data row0 col2\" ><a href=\"https://services5.arcgis.com/ZqUZ99cjRiEOyN05/ArcGIS/rest/services/service_5634daf6e7ae43bdb2f8f847bc38218f/FeatureServer/0\">link</a></td>\n",
       "            </tr>\n",
       "            <tr>\n",
       "                        <th id=\"T_271dbc1a_ab8e_11ea_96be_01a3feda2a19level0_row1\" class=\"row_heading level0 row1\" >191</th>\n",
       "                        <td id=\"T_271dbc1a_ab8e_11ea_96be_01a3feda2a19row1_col0\" class=\"data row1 col0\" >COVID-19 Counties</td>\n",
       "                        <td id=\"T_271dbc1a_ab8e_11ea_96be_01a3feda2a19row1_col1\" class=\"data row1 col1\" >2020-06-10 20:34:47.209000</td>\n",
       "                        <td id=\"T_271dbc1a_ab8e_11ea_96be_01a3feda2a19row1_col2\" class=\"data row1 col2\" ><a href=\"https://services5.arcgis.com/ZqUZ99cjRiEOyN05/ArcGIS/rest/services/wxb90/FeatureServer/0\">link</a></td>\n",
       "            </tr>\n",
       "            <tr>\n",
       "                        <th id=\"T_271dbc1a_ab8e_11ea_96be_01a3feda2a19level0_row2\" class=\"row_heading level0 row2\" >21</th>\n",
       "                        <td id=\"T_271dbc1a_ab8e_11ea_96be_01a3feda2a19row2_col0\" class=\"data row2 col0\" >COVID-19 Counties</td>\n",
       "                        <td id=\"T_271dbc1a_ab8e_11ea_96be_01a3feda2a19row2_col1\" class=\"data row2 col1\" >2020-06-10 20:34:47.209000</td>\n",
       "                        <td id=\"T_271dbc1a_ab8e_11ea_96be_01a3feda2a19row2_col2\" class=\"data row2 col2\" ><a href=\"https://services5.arcgis.com/ZqUZ99cjRiEOyN05/ArcGIS/rest/services/COVID_19_Cases_by_County_Public_View/FeatureServer/0\">link</a></td>\n",
       "            </tr>\n",
       "            <tr>\n",
       "                        <th id=\"T_271dbc1a_ab8e_11ea_96be_01a3feda2a19level0_row3\" class=\"row_heading level0 row3\" >24</th>\n",
       "                        <td id=\"T_271dbc1a_ab8e_11ea_96be_01a3feda2a19row3_col0\" class=\"data row3 col0\" >Cumulative_County_Cases_Centroid_Time_Series</td>\n",
       "                        <td id=\"T_271dbc1a_ab8e_11ea_96be_01a3feda2a19row3_col1\" class=\"data row3 col1\" >2020-06-10 20:14:50.483000</td>\n",
       "                        <td id=\"T_271dbc1a_ab8e_11ea_96be_01a3feda2a19row3_col2\" class=\"data row3 col2\" ><a href=\"https://services5.arcgis.com/ZqUZ99cjRiEOyN05/ArcGIS/rest/services/Cumulative_County_Cases_Centroid_Time_Series/FeatureServer/0\">link</a></td>\n",
       "            </tr>\n",
       "            <tr>\n",
       "                        <th id=\"T_271dbc1a_ab8e_11ea_96be_01a3feda2a19level0_row4\" class=\"row_heading level0 row4\" >25</th>\n",
       "                        <td id=\"T_271dbc1a_ab8e_11ea_96be_01a3feda2a19row4_col0\" class=\"data row4 col0\" >Cumulative_County_Totals_Time_Series</td>\n",
       "                        <td id=\"T_271dbc1a_ab8e_11ea_96be_01a3feda2a19row4_col1\" class=\"data row4 col1\" >2020-06-10 20:14:50.483000</td>\n",
       "                        <td id=\"T_271dbc1a_ab8e_11ea_96be_01a3feda2a19row4_col2\" class=\"data row4 col2\" ><a href=\"https://services5.arcgis.com/ZqUZ99cjRiEOyN05/ArcGIS/rest/services/Cumulative_County_Totals_Time_Series/FeatureServer/0\">link</a></td>\n",
       "            </tr>\n",
       "            <tr>\n",
       "                        <th id=\"T_271dbc1a_ab8e_11ea_96be_01a3feda2a19level0_row5\" class=\"row_heading level0 row5\" >162</th>\n",
       "                        <td id=\"T_271dbc1a_ab8e_11ea_96be_01a3feda2a19row5_col0\" class=\"data row5 col0\" >Time_Series_Cases_and_Deaths</td>\n",
       "                        <td id=\"T_271dbc1a_ab8e_11ea_96be_01a3feda2a19row5_col1\" class=\"data row5 col1\" >2020-06-10 20:13:38.397000</td>\n",
       "                        <td id=\"T_271dbc1a_ab8e_11ea_96be_01a3feda2a19row5_col2\" class=\"data row5 col2\" ><a href=\"https://services5.arcgis.com/ZqUZ99cjRiEOyN05/ArcGIS/rest/services/Time_Series_Cases_and_Deaths/FeatureServer/0\">link</a></td>\n",
       "            </tr>\n",
       "            <tr>\n",
       "                        <th id=\"T_271dbc1a_ab8e_11ea_96be_01a3feda2a19level0_row6\" class=\"row_heading level0 row6\" >101</th>\n",
       "                        <td id=\"T_271dbc1a_ab8e_11ea_96be_01a3feda2a19row6_col0\" class=\"data row6 col0\" >New_cases_and_deaths_Time_Series</td>\n",
       "                        <td id=\"T_271dbc1a_ab8e_11ea_96be_01a3feda2a19row6_col1\" class=\"data row6 col1\" >2020-06-10 20:13:38.397000</td>\n",
       "                        <td id=\"T_271dbc1a_ab8e_11ea_96be_01a3feda2a19row6_col2\" class=\"data row6 col2\" ><a href=\"https://services5.arcgis.com/ZqUZ99cjRiEOyN05/ArcGIS/rest/services/New_cases_and_deaths_Time_Series/FeatureServer/0\">link</a></td>\n",
       "            </tr>\n",
       "            <tr>\n",
       "                        <th id=\"T_271dbc1a_ab8e_11ea_96be_01a3feda2a19level0_row7\" class=\"row_heading level0 row7\" >93</th>\n",
       "                        <td id=\"T_271dbc1a_ab8e_11ea_96be_01a3feda2a19row7_col0\" class=\"data row7 col0\" >Most_Recent_Cases_and_Deaths</td>\n",
       "                        <td id=\"T_271dbc1a_ab8e_11ea_96be_01a3feda2a19row7_col1\" class=\"data row7 col1\" >2020-06-10 20:13:38.397000</td>\n",
       "                        <td id=\"T_271dbc1a_ab8e_11ea_96be_01a3feda2a19row7_col2\" class=\"data row7 col2\" ><a href=\"https://services5.arcgis.com/ZqUZ99cjRiEOyN05/ArcGIS/rest/services/Most_Recent_Cases_and_Deaths/FeatureServer/0\">link</a></td>\n",
       "            </tr>\n",
       "            <tr>\n",
       "                        <th id=\"T_271dbc1a_ab8e_11ea_96be_01a3feda2a19level0_row8\" class=\"row_heading level0 row8\" >160</th>\n",
       "                        <td id=\"T_271dbc1a_ab8e_11ea_96be_01a3feda2a19row8_col0\" class=\"data row8 col0\" >Active </td>\n",
       "                        <td id=\"T_271dbc1a_ab8e_11ea_96be_01a3feda2a19row8_col1\" class=\"data row8 col1\" >2020-06-10 19:17:48.430000</td>\n",
       "                        <td id=\"T_271dbc1a_ab8e_11ea_96be_01a3feda2a19row8_col2\" class=\"data row8 col2\" ><a href=\"https://services5.arcgis.com/ZqUZ99cjRiEOyN05/ArcGIS/rest/services/Tc7EZ/FeatureServer/0\">link</a></td>\n",
       "            </tr>\n",
       "            <tr>\n",
       "                        <th id=\"T_271dbc1a_ab8e_11ea_96be_01a3feda2a19level0_row9\" class=\"row_heading level0 row9\" >65</th>\n",
       "                        <td id=\"T_271dbc1a_ab8e_11ea_96be_01a3feda2a19row9_col0\" class=\"data row9 col0\" >New Cases</td>\n",
       "                        <td id=\"T_271dbc1a_ab8e_11ea_96be_01a3feda2a19row9_col1\" class=\"data row9 col1\" >2020-06-10 19:17:37.917000</td>\n",
       "                        <td id=\"T_271dbc1a_ab8e_11ea_96be_01a3feda2a19row9_col2\" class=\"data row9 col2\" ><a href=\"https://services5.arcgis.com/ZqUZ99cjRiEOyN05/ArcGIS/rest/services/h5g7g/FeatureServer/0\">link</a></td>\n",
       "            </tr>\n",
       "            <tr>\n",
       "                        <th id=\"T_271dbc1a_ab8e_11ea_96be_01a3feda2a19level0_row10\" class=\"row_heading level0 row10\" >22</th>\n",
       "                        <td id=\"T_271dbc1a_ab8e_11ea_96be_01a3feda2a19row10_col0\" class=\"data row10 col0\" >COVID-19 Case Growth</td>\n",
       "                        <td id=\"T_271dbc1a_ab8e_11ea_96be_01a3feda2a19row10_col1\" class=\"data row10 col1\" >2020-06-10 19:14:57.280000</td>\n",
       "                        <td id=\"T_271dbc1a_ab8e_11ea_96be_01a3feda2a19row10_col2\" class=\"data row10 col2\" ><a href=\"https://services5.arcgis.com/ZqUZ99cjRiEOyN05/ArcGIS/rest/services/COVID_19_Cases_Growth_Public_View/FeatureServer/0\">link</a></td>\n",
       "            </tr>\n",
       "            <tr>\n",
       "                        <th id=\"T_271dbc1a_ab8e_11ea_96be_01a3feda2a19level0_row11\" class=\"row_heading level0 row11\" >72</th>\n",
       "                        <td id=\"T_271dbc1a_ab8e_11ea_96be_01a3feda2a19row11_col0\" class=\"data row11 col0\" >COVID-19 Case Growth</td>\n",
       "                        <td id=\"T_271dbc1a_ab8e_11ea_96be_01a3feda2a19row11_col1\" class=\"data row11 col1\" >2020-06-10 19:14:57.280000</td>\n",
       "                        <td id=\"T_271dbc1a_ab8e_11ea_96be_01a3feda2a19row11_col2\" class=\"data row11 col2\" ><a href=\"https://services5.arcgis.com/ZqUZ99cjRiEOyN05/ArcGIS/rest/services/jX9FD/FeatureServer/0\">link</a></td>\n",
       "            </tr>\n",
       "            <tr>\n",
       "                        <th id=\"T_271dbc1a_ab8e_11ea_96be_01a3feda2a19level0_row12\" class=\"row_heading level0 row12\" >23</th>\n",
       "                        <td id=\"T_271dbc1a_ab8e_11ea_96be_01a3feda2a19row12_col0\" class=\"data row12 col0\" >COVID_Metrics</td>\n",
       "                        <td id=\"T_271dbc1a_ab8e_11ea_96be_01a3feda2a19row12_col1\" class=\"data row12 col1\" >2020-06-09 20:31:33.116000</td>\n",
       "                        <td id=\"T_271dbc1a_ab8e_11ea_96be_01a3feda2a19row12_col2\" class=\"data row12 col2\" ><a href=\"https://services5.arcgis.com/ZqUZ99cjRiEOyN05/ArcGIS/rest/services/COVID_Metrics/FeatureServer/0\">link</a></td>\n",
       "            </tr>\n",
       "            <tr>\n",
       "                        <th id=\"T_271dbc1a_ab8e_11ea_96be_01a3feda2a19level0_row13\" class=\"row_heading level0 row13\" >54</th>\n",
       "                        <td id=\"T_271dbc1a_ab8e_11ea_96be_01a3feda2a19row13_col0\" class=\"data row13 col0\" >Gender Deaths</td>\n",
       "                        <td id=\"T_271dbc1a_ab8e_11ea_96be_01a3feda2a19row13_col1\" class=\"data row13 col1\" >2020-06-09 19:08:46.759000</td>\n",
       "                        <td id=\"T_271dbc1a_ab8e_11ea_96be_01a3feda2a19row13_col2\" class=\"data row13 col2\" ><a href=\"https://services5.arcgis.com/ZqUZ99cjRiEOyN05/ArcGIS/rest/services/g9ZB9/FeatureServer/0\">link</a></td>\n",
       "            </tr>\n",
       "            <tr>\n",
       "                        <th id=\"T_271dbc1a_ab8e_11ea_96be_01a3feda2a19level0_row14\" class=\"row_heading level0 row14\" >87</th>\n",
       "                        <td id=\"T_271dbc1a_ab8e_11ea_96be_01a3feda2a19row14_col0\" class=\"data row14 col0\" >MICIMS_RR_Stats</td>\n",
       "                        <td id=\"T_271dbc1a_ab8e_11ea_96be_01a3feda2a19row14_col1\" class=\"data row14 col1\" >2020-06-08 18:56:26.099000</td>\n",
       "                        <td id=\"T_271dbc1a_ab8e_11ea_96be_01a3feda2a19row14_col2\" class=\"data row14 col2\" ><a href=\"https://services5.arcgis.com/ZqUZ99cjRiEOyN05/ArcGIS/rest/services/mIGL8/FeatureServer/0\">link</a></td>\n",
       "            </tr>\n",
       "            <tr>\n",
       "                        <th id=\"T_271dbc1a_ab8e_11ea_96be_01a3feda2a19level0_row15\" class=\"row_heading level0 row15\" >71</th>\n",
       "                        <td id=\"T_271dbc1a_ab8e_11ea_96be_01a3feda2a19row15_col0\" class=\"data row15 col0\" >RR_MICIMS_20200608</td>\n",
       "                        <td id=\"T_271dbc1a_ab8e_11ea_96be_01a3feda2a19row15_col1\" class=\"data row15 col1\" >2020-06-08 18:46:55.691000</td>\n",
       "                        <td id=\"T_271dbc1a_ab8e_11ea_96be_01a3feda2a19row15_col2\" class=\"data row15 col2\" ><a href=\"https://services5.arcgis.com/ZqUZ99cjRiEOyN05/ArcGIS/rest/services/jcLKl/FeatureServer/0\">link</a></td>\n",
       "            </tr>\n",
       "            <tr>\n",
       "                        <th id=\"T_271dbc1a_ab8e_11ea_96be_01a3feda2a19level0_row16\" class=\"row_heading level0 row16\" >8</th>\n",
       "                        <td id=\"T_271dbc1a_ab8e_11ea_96be_01a3feda2a19row16_col0\" class=\"data row16 col0\" >RR_MICIMS_20200604</td>\n",
       "                        <td id=\"T_271dbc1a_ab8e_11ea_96be_01a3feda2a19row16_col1\" class=\"data row16 col1\" >2020-06-08 18:44:42.034000</td>\n",
       "                        <td id=\"T_271dbc1a_ab8e_11ea_96be_01a3feda2a19row16_col2\" class=\"data row16 col2\" ><a href=\"https://services5.arcgis.com/ZqUZ99cjRiEOyN05/ArcGIS/rest/services/azUKV/FeatureServer/0\">link</a></td>\n",
       "            </tr>\n",
       "            <tr>\n",
       "                        <th id=\"T_271dbc1a_ab8e_11ea_96be_01a3feda2a19level0_row17\" class=\"row_heading level0 row17\" >31</th>\n",
       "                        <td id=\"T_271dbc1a_ab8e_11ea_96be_01a3feda2a19row17_col0\" class=\"data row17 col0\" >Genders</td>\n",
       "                        <td id=\"T_271dbc1a_ab8e_11ea_96be_01a3feda2a19row17_col1\" class=\"data row17 col1\" >2020-06-07 18:42:11.601000</td>\n",
       "                        <td id=\"T_271dbc1a_ab8e_11ea_96be_01a3feda2a19row17_col2\" class=\"data row17 col2\" ><a href=\"https://services5.arcgis.com/ZqUZ99cjRiEOyN05/ArcGIS/rest/services/dov3S/FeatureServer/0\">link</a></td>\n",
       "            </tr>\n",
       "            <tr>\n",
       "                        <th id=\"T_271dbc1a_ab8e_11ea_96be_01a3feda2a19level0_row18\" class=\"row_heading level0 row18\" >170</th>\n",
       "                        <td id=\"T_271dbc1a_ab8e_11ea_96be_01a3feda2a19row18_col0\" class=\"data row18 col0\" >Age Group Deceased</td>\n",
       "                        <td id=\"T_271dbc1a_ab8e_11ea_96be_01a3feda2a19row18_col1\" class=\"data row18 col1\" >2020-06-07 18:41:35.064000</td>\n",
       "                        <td id=\"T_271dbc1a_ab8e_11ea_96be_01a3feda2a19row18_col2\" class=\"data row18 col2\" ><a href=\"https://services5.arcgis.com/ZqUZ99cjRiEOyN05/ArcGIS/rest/services/uDBjN/FeatureServer/0\">link</a></td>\n",
       "            </tr>\n",
       "            <tr>\n",
       "                        <th id=\"T_271dbc1a_ab8e_11ea_96be_01a3feda2a19level0_row19\" class=\"row_heading level0 row19\" >3</th>\n",
       "                        <td id=\"T_271dbc1a_ab8e_11ea_96be_01a3feda2a19row19_col0\" class=\"data row19 col0\" >Recovered</td>\n",
       "                        <td id=\"T_271dbc1a_ab8e_11ea_96be_01a3feda2a19row19_col1\" class=\"data row19 col1\" >2020-06-07 18:19:15.677000</td>\n",
       "                        <td id=\"T_271dbc1a_ab8e_11ea_96be_01a3feda2a19row19_col2\" class=\"data row19 col2\" ><a href=\"https://services5.arcgis.com/ZqUZ99cjRiEOyN05/ArcGIS/rest/services/AdKoF/FeatureServer/0\">link</a></td>\n",
       "            </tr>\n",
       "            <tr>\n",
       "                        <th id=\"T_271dbc1a_ab8e_11ea_96be_01a3feda2a19level0_row20\" class=\"row_heading level0 row20\" >179</th>\n",
       "                        <td id=\"T_271dbc1a_ab8e_11ea_96be_01a3feda2a19row20_col0\" class=\"data row20 col0\" >Age Groups</td>\n",
       "                        <td id=\"T_271dbc1a_ab8e_11ea_96be_01a3feda2a19row20_col1\" class=\"data row20 col1\" >2020-06-06 16:55:07.809000</td>\n",
       "                        <td id=\"T_271dbc1a_ab8e_11ea_96be_01a3feda2a19row20_col2\" class=\"data row20 col2\" ><a href=\"https://services5.arcgis.com/ZqUZ99cjRiEOyN05/ArcGIS/rest/services/W1p35/FeatureServer/0\">link</a></td>\n",
       "            </tr>\n",
       "            <tr>\n",
       "                        <th id=\"T_271dbc1a_ab8e_11ea_96be_01a3feda2a19level0_row21\" class=\"row_heading level0 row21\" >147</th>\n",
       "                        <td id=\"T_271dbc1a_ab8e_11ea_96be_01a3feda2a19row21_col0\" class=\"data row21 col0\" >surveyPoint</td>\n",
       "                        <td id=\"T_271dbc1a_ab8e_11ea_96be_01a3feda2a19row21_col1\" class=\"data row21 col1\" >2020-06-05 16:46:26.734000</td>\n",
       "                        <td id=\"T_271dbc1a_ab8e_11ea_96be_01a3feda2a19row21_col2\" class=\"data row21 col2\" ><a href=\"https://services5.arcgis.com/ZqUZ99cjRiEOyN05/ArcGIS/rest/services/survey123_4fb331e4b330403ca75539f5704c15c3/FeatureServer/0\">link</a></td>\n",
       "            </tr>\n",
       "            <tr>\n",
       "                        <th id=\"T_271dbc1a_ab8e_11ea_96be_01a3feda2a19level0_row22\" class=\"row_heading level0 row22\" >56</th>\n",
       "                        <td id=\"T_271dbc1a_ab8e_11ea_96be_01a3feda2a19row22_col0\" class=\"data row22 col0\" >GeoForm for self reporting damage assessment</td>\n",
       "                        <td id=\"T_271dbc1a_ab8e_11ea_96be_01a3feda2a19row22_col1\" class=\"data row22 col1\" >2020-06-04 19:46:18.425000</td>\n",
       "                        <td id=\"T_271dbc1a_ab8e_11ea_96be_01a3feda2a19row22_col2\" class=\"data row22 col2\" ><a href=\"https://services5.arcgis.com/ZqUZ99cjRiEOyN05/ArcGIS/rest/services/GeoForm_SelfReporting_Layer/FeatureServer/1\">link</a></td>\n",
       "            </tr>\n",
       "            <tr>\n",
       "                        <th id=\"T_271dbc1a_ab8e_11ea_96be_01a3feda2a19level0_row23\" class=\"row_heading level0 row23\" >202</th>\n",
       "                        <td id=\"T_271dbc1a_ab8e_11ea_96be_01a3feda2a19row23_col0\" class=\"data row23 col0\" >Donations_4012020</td>\n",
       "                        <td id=\"T_271dbc1a_ab8e_11ea_96be_01a3feda2a19row23_col1\" class=\"data row23 col1\" >2020-06-04 17:43:43.343000</td>\n",
       "                        <td id=\"T_271dbc1a_ab8e_11ea_96be_01a3feda2a19row23_col2\" class=\"data row23 col2\" ><a href=\"https://services5.arcgis.com/ZqUZ99cjRiEOyN05/ArcGIS/rest/services/ZNUaR/FeatureServer/0\">link</a></td>\n",
       "            </tr>\n",
       "            <tr>\n",
       "                        <th id=\"T_271dbc1a_ab8e_11ea_96be_01a3feda2a19level0_row24\" class=\"row_heading level0 row24\" >168</th>\n",
       "                        <td id=\"T_271dbc1a_ab8e_11ea_96be_01a3feda2a19row24_col0\" class=\"data row24 col0\" >MICIMS_RR_20200526</td>\n",
       "                        <td id=\"T_271dbc1a_ab8e_11ea_96be_01a3feda2a19row24_col1\" class=\"data row24 col1\" >2020-06-04 14:48:48.016000</td>\n",
       "                        <td id=\"T_271dbc1a_ab8e_11ea_96be_01a3feda2a19row24_col2\" class=\"data row24 col2\" ><a href=\"https://services5.arcgis.com/ZqUZ99cjRiEOyN05/ArcGIS/rest/services/trAZM/FeatureServer/0\">link</a></td>\n",
       "            </tr>\n",
       "    </tbody></table>"
      ],
      "text/plain": [
       "<pandas.io.formats.style.Styler at 0x7fd7b7bde410>"
      ]
     },
     "execution_count": 66,
     "metadata": {},
     "output_type": "execute_result"
    }
   ],
   "source": [
    "df['lastUpdate'] = pd.to_datetime(df['lastUpdate'],unit='ms')\n",
    "\n",
    "url_df = df.loc[df['lastUpdate'] > (datetime.now() - timedelta(days=8))]\n",
    "url_df = url_df.sort_values('lastUpdate', ascending=False)\n",
    "# TODO: \n",
    "# [x] Filter out layers older than 1w\n",
    "# [ ] Fetch column names for all the new ones\n",
    "url_df.style.format({'url': lambda x: \"<a href=\\\"{}\\\">link</a>\".format(x)})"
   ]
  },
  {
   "cell_type": "code",
   "execution_count": 65,
   "metadata": {},
   "outputs": [
    {
     "data": {
      "text/plain": [
       "datetime.datetime(2020, 6, 2, 19, 48, 56, 320157)"
      ]
     },
     "execution_count": 65,
     "metadata": {},
     "output_type": "execute_result"
    }
   ],
   "source": []
  }
 ],
 "metadata": {
  "kernelspec": {
   "display_name": "Python 3",
   "language": "python",
   "name": "python3"
  },
  "language_info": {
   "codemirror_mode": {
    "name": "ipython",
    "version": 3
   },
   "file_extension": ".py",
   "mimetype": "text/x-python",
   "name": "python",
   "nbconvert_exporter": "python",
   "pygments_lexer": "ipython3",
   "version": "3.7.6"
  }
 },
 "nbformat": 4,
 "nbformat_minor": 4
}
