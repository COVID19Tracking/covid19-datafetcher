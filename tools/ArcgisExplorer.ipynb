{
 "cells": [
  {
   "cell_type": "markdown",
   "metadata": {},
   "source": [
    "# ArcGIS explorer\n",
    "Find layers, list them by name + last updated date"
   ]
  },
  {
   "cell_type": "code",
   "execution_count": 3,
   "metadata": {},
   "outputs": [],
   "source": [
    "import urllib, urllib.request\n",
    "import json\n",
    "import pandas as pd\n",
    "from datetime import datetime, timedelta\n",
    "\n",
    "def request(url, query=None, encoding=None):\n",
    "    if not encoding:\n",
    "        encoding = 'utf-8'\n",
    "        \n",
    "    url = urllib.parse.quote(url, safe=':/=?')    \n",
    "    if query:\n",
    "        url = \"{}?{}\".format(url, urllib.parse.urlencode(query))\n",
    "    res = {}\n",
    "    #req = urllib.request.Request(url, headers = {'User-Agent': 'Mozilla/5.0'})\n",
    "    with urllib.request.urlopen(url) as f:\n",
    "        res = f.read().decode(encoding)\n",
    "        res = json.loads(res)\n",
    "    return res"
   ]
  },
  {
   "cell_type": "code",
   "execution_count": 83,
   "metadata": {},
   "outputs": [],
   "source": [
    "# data\n",
    "url = 'https://services2.arcgis.com/FPJlJZYRsD8OhCWA/ArcGIS/rest/services'"
   ]
  },
  {
   "cell_type": "code",
   "execution_count": 84,
   "metadata": {},
   "outputs": [
    {
     "name": "stdout",
     "output_type": "stream",
     "text": [
      "URL =  https://services2.arcgis.com/FPJlJZYRsD8OhCWA/ArcGIS/rest/services\n"
     ]
    }
   ],
   "source": [
    "print(\"URL = \", url)\n",
    "# Get the list of services\n",
    "services = request(url, {'f': 'pjson'})\n",
    "collect_layers = []\n",
    "for service in services.get('services', []):\n",
    "    service_url = service.get('url')\n",
    "    layers = request(\"{}/layers?f=pjson\".format(service_url))\n",
    "    for layer in layers.get('layers', []):\n",
    "        collect_layers.append({            \n",
    "            'name': layer.get('name'),\n",
    "            'lastUpdate': layer.get('editingInfo', {}).get('lastEditDate'),\n",
    "            'url': service_url + \"/{}\".format(layer.get('id')),\n",
    "            'service': service.get('name')\n",
    "        })\n",
    "    for layer in layers.get('tables', []):\n",
    "        collect_layers.append({            \n",
    "            'name': layer.get('name'),\n",
    "            'lastUpdate': layer.get('editingInfo', {}).get('lastEditDate'),\n",
    "            'url': service_url + \"/{}\".format(layer.get('id')),\n",
    "            'service': service.get('name') \n",
    "        })\n",
    "\n",
    "df = pd.json_normalize(collect_layers)"
   ]
  },
  {
   "cell_type": "code",
   "execution_count": 85,
   "metadata": {},
   "outputs": [
    {
     "data": {
      "text/html": [
       "<style  type=\"text/css\" >\n",
       "</style><table id=\"T_1ad0eade_c148_11ea_869c_d736ba99166d\" ><thead>    <tr>        <th class=\"blank level0\" ></th>        <th class=\"col_heading level0 col0\" >name</th>        <th class=\"col_heading level0 col1\" >lastUpdate</th>        <th class=\"col_heading level0 col2\" >url</th>        <th class=\"col_heading level0 col3\" >service</th>    </tr></thead><tbody>\n",
       "                <tr>\n",
       "                        <th id=\"T_1ad0eade_c148_11ea_869c_d736ba99166dlevel0_row0\" class=\"row_heading level0 row0\" >1</th>\n",
       "                        <td id=\"T_1ad0eade_c148_11ea_869c_d736ba99166drow0_col0\" class=\"data row0 col0\" >Cumulative Totals</td>\n",
       "                        <td id=\"T_1ad0eade_c148_11ea_869c_d736ba99166drow0_col1\" class=\"data row0 col1\" >2020-07-08 01:22:47.696000</td>\n",
       "                        <td id=\"T_1ad0eade_c148_11ea_869c_d736ba99166drow0_col2\" class=\"data row0 col2\" ><a href=\"https://services2.arcgis.com/FPJlJZYRsD8OhCWA/ArcGIS/rest/services/Cases_Recovered_Deaths_Query/FeatureServer/0\">link</a></td>\n",
       "                        <td id=\"T_1ad0eade_c148_11ea_869c_d736ba99166drow0_col3\" class=\"data row0 col3\" >Cases_Recovered_Deaths_Query</td>\n",
       "            </tr>\n",
       "            <tr>\n",
       "                        <th id=\"T_1ad0eade_c148_11ea_869c_d736ba99166dlevel0_row1\" class=\"row_heading level0 row1\" >126</th>\n",
       "                        <td id=\"T_1ad0eade_c148_11ea_869c_d736ba99166drow1_col0\" class=\"data row1 col0\" >Village_Query_Map</td>\n",
       "                        <td id=\"T_1ad0eade_c148_11ea_869c_d736ba99166drow1_col1\" class=\"data row1 col1\" >2020-07-08 01:14:03.826000</td>\n",
       "                        <td id=\"T_1ad0eade_c148_11ea_869c_d736ba99166drow1_col2\" class=\"data row1 col2\" ><a href=\"https://services2.arcgis.com/FPJlJZYRsD8OhCWA/ArcGIS/rest/services/Village_Query_Map/FeatureServer/0\">link</a></td>\n",
       "                        <td id=\"T_1ad0eade_c148_11ea_869c_d736ba99166drow1_col3\" class=\"data row1 col3\" >Village_Query_Map</td>\n",
       "            </tr>\n",
       "            <tr>\n",
       "                        <th id=\"T_1ad0eade_c148_11ea_869c_d736ba99166dlevel0_row2\" class=\"row_heading level0 row2\" >16</th>\n",
       "                        <td id=\"T_1ad0eade_c148_11ea_869c_d736ba99166drow2_col0\" class=\"data row2 col0\" >Ethnicity</td>\n",
       "                        <td id=\"T_1ad0eade_c148_11ea_869c_d736ba99166drow2_col1\" class=\"data row2 col1\" >2020-07-08 01:13:22.680000</td>\n",
       "                        <td id=\"T_1ad0eade_c148_11ea_869c_d736ba99166drow2_col2\" class=\"data row2 col2\" ><a href=\"https://services2.arcgis.com/FPJlJZYRsD8OhCWA/ArcGIS/rest/services/Ethnicity_Query/FeatureServer/0\">link</a></td>\n",
       "                        <td id=\"T_1ad0eade_c148_11ea_869c_d736ba99166drow2_col3\" class=\"data row2 col3\" >Ethnicity_Query</td>\n",
       "            </tr>\n",
       "            <tr>\n",
       "                        <th id=\"T_1ad0eade_c148_11ea_869c_d736ba99166dlevel0_row3\" class=\"row_heading level0 row3\" >0</th>\n",
       "                        <td id=\"T_1ad0eade_c148_11ea_869c_d736ba99166drow3_col0\" class=\"data row3 col0\" >Age Group</td>\n",
       "                        <td id=\"T_1ad0eade_c148_11ea_869c_d736ba99166drow3_col1\" class=\"data row3 col1\" >2020-07-08 01:13:17.475000</td>\n",
       "                        <td id=\"T_1ad0eade_c148_11ea_869c_d736ba99166drow3_col2\" class=\"data row3 col2\" ><a href=\"https://services2.arcgis.com/FPJlJZYRsD8OhCWA/ArcGIS/rest/services/Age_Group_Query/FeatureServer/0\">link</a></td>\n",
       "                        <td id=\"T_1ad0eade_c148_11ea_869c_d736ba99166drow3_col3\" class=\"data row3 col3\" >Age_Group_Query</td>\n",
       "            </tr>\n",
       "            <tr>\n",
       "                        <th id=\"T_1ad0eade_c148_11ea_869c_d736ba99166dlevel0_row4\" class=\"row_heading level0 row4\" >98</th>\n",
       "                        <td id=\"T_1ad0eade_c148_11ea_869c_d736ba99166drow4_col0\" class=\"data row4 col0\" >Sex</td>\n",
       "                        <td id=\"T_1ad0eade_c148_11ea_869c_d736ba99166drow4_col1\" class=\"data row4 col1\" >2020-07-08 01:13:12.446000</td>\n",
       "                        <td id=\"T_1ad0eade_c148_11ea_869c_d736ba99166drow4_col2\" class=\"data row4 col2\" ><a href=\"https://services2.arcgis.com/FPJlJZYRsD8OhCWA/ArcGIS/rest/services/Sex_Query/FeatureServer/0\">link</a></td>\n",
       "                        <td id=\"T_1ad0eade_c148_11ea_869c_d736ba99166drow4_col3\" class=\"data row4 col3\" >Sex_Query</td>\n",
       "            </tr>\n",
       "            <tr>\n",
       "                        <th id=\"T_1ad0eade_c148_11ea_869c_d736ba99166dlevel0_row5\" class=\"row_heading level0 row5\" >124</th>\n",
       "                        <td id=\"T_1ad0eade_c148_11ea_869c_d736ba99166drow5_col0\" class=\"data row5 col0\" >Testing and Status</td>\n",
       "                        <td id=\"T_1ad0eade_c148_11ea_869c_d736ba99166drow5_col1\" class=\"data row5 col1\" >2020-07-08 01:13:02.350000</td>\n",
       "                        <td id=\"T_1ad0eade_c148_11ea_869c_d736ba99166drow5_col2\" class=\"data row5 col2\" ><a href=\"https://services2.arcgis.com/FPJlJZYRsD8OhCWA/ArcGIS/rest/services/Testing_and_Status_Query/FeatureServer/0\">link</a></td>\n",
       "                        <td id=\"T_1ad0eade_c148_11ea_869c_d736ba99166drow5_col3\" class=\"data row5 col3\" >Testing_and_Status_Query</td>\n",
       "            </tr>\n",
       "    </tbody></table>"
      ],
      "text/plain": [
       "<pandas.io.formats.style.Styler at 0x7fc2c862c810>"
      ]
     },
     "execution_count": 85,
     "metadata": {},
     "output_type": "execute_result"
    }
   ],
   "source": [
    "df['lastUpdate'] = pd.to_datetime(df['lastUpdate'],unit='ms')\n",
    "\n",
    "url_df = df.loc[df['lastUpdate'] > (datetime.now() - timedelta(days=4))]\n",
    "url_df = url_df.sort_values('lastUpdate', ascending=False)\n",
    "# TODO: \n",
    "# [x] Filter out layers older than 1w\n",
    "# [ ] Fetch column names for all the new ones\n",
    "url_df.style.format({'url': lambda x: \"<a href=\\\"{}\\\">link</a>\".format(x)})"
   ]
  },
  {
   "cell_type": "code",
   "execution_count": 65,
   "metadata": {},
   "outputs": [
    {
     "data": {
      "text/plain": [
       "datetime.datetime(2020, 6, 2, 19, 48, 56, 320157)"
      ]
     },
     "execution_count": 65,
     "metadata": {},
     "output_type": "execute_result"
    }
   ],
   "source": []
  }
 ],
 "metadata": {
  "kernelspec": {
   "display_name": "Python 3",
   "language": "python",
   "name": "python3"
  },
  "language_info": {
   "codemirror_mode": {
    "name": "ipython",
    "version": 3
   },
   "file_extension": ".py",
   "mimetype": "text/x-python",
   "name": "python",
   "nbconvert_exporter": "python",
   "pygments_lexer": "ipython3",
   "version": "3.7.6"
  }
 },
 "nbformat": 4,
 "nbformat_minor": 4
}
