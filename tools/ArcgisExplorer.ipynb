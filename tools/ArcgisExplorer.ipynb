{
 "cells": [
  {
   "cell_type": "markdown",
   "metadata": {},
   "source": [
    "# ArcGIS explorer\n",
    "Find layers, list them by name + last updated date"
   ]
  },
  {
   "cell_type": "code",
   "execution_count": null,
   "metadata": {},
   "outputs": [],
   "source": [
    "import urllib, urllib.request\n",
    "import json\n",
    "import pandas as pd\n",
    "from datetime import datetime, timedelta\n",
    "\n",
    "def request(url, query=None, encoding=None):\n",
    "    if not encoding:\n",
    "        encoding = 'utf-8'\n",
    "        \n",
    "    url = urllib.parse.quote(url, safe=':/=?')    \n",
    "    if query:\n",
    "        url = \"{}?{}\".format(url, urllib.parse.urlencode(query))\n",
    "    res = {}\n",
    "    #req = urllib.request.Request(url, headers = {'User-Agent': 'Mozilla/5.0'})\n",
    "    with urllib.request.urlopen(url) as f:\n",
    "        res = f.read().decode(encoding)\n",
    "        res = json.loads(res)\n",
    "    return res"
   ]
  },
  {
   "cell_type": "code",
   "execution_count": null,
   "metadata": {},
   "outputs": [],
   "source": [
    "# data\n",
    "url = 'https://services2.arcgis.com/MLoS3Qx4BXmDoTIY/ArcGIS/rest/services'"
   ]
  },
  {
   "cell_type": "code",
   "execution_count": null,
   "metadata": {},
   "outputs": [],
   "source": [
    "print(\"URL = \", url)\n",
    "# Get the list of services\n",
    "services = request(url, {'f': 'pjson'})\n",
    "collect_layers = []\n",
    "for service in services.get('services', []):\n",
    "    service_url = service.get('url')\n",
    "    layers = None\n",
    "    try:\n",
    "        layers = request(\"{}/layers?f=pjson\".format(service_url))\n",
    "    except Exception as e:\n",
    "        print(\"Error \", str(e))\n",
    "    if not layers: \n",
    "        continue\n",
    "    for layer in layers.get('layers', []):\n",
    "        collect_layers.append({            \n",
    "            'name': layer.get('name'),\n",
    "            'lastUpdate': layer.get('editingInfo', {}).get('lastEditDate'),\n",
    "            'url': service_url + \"/{}\".format(layer.get('id')),\n",
    "            'service': service.get('name')\n",
    "        })\n",
    "    for layer in layers.get('tables', []):\n",
    "        collect_layers.append({            \n",
    "            'name': layer.get('name'),\n",
    "            'lastUpdate': layer.get('editingInfo', {}).get('lastEditDate'),\n",
    "            'url': service_url + \"/{}\".format(layer.get('id')),\n",
    "            'service': service.get('name') \n",
    "        })\n",
    "\n",
    "df = pd.json_normalize(collect_layers)"
   ]
  },
  {
   "cell_type": "code",
   "execution_count": null,
   "metadata": {},
   "outputs": [],
   "source": [
    "df['lastUpdate'] = pd.to_datetime(df['lastUpdate'],unit='ms')\n",
    "\n",
    "url_df = df.loc[df['lastUpdate'] > (datetime.now() - timedelta(days=4))]\n",
    "url_df = url_df.sort_values('lastUpdate', ascending=False)\n",
    "# TODO: \n",
    "# [x] Filter out layers older than 1w\n",
    "# [ ] Fetch column names for all the new ones\n",
    "url_df.style.format({'url': lambda x: \"<a href=\\\"{}\\\">link</a>\".format(x)})"
   ]
  },
  {
   "cell_type": "code",
   "execution_count": null,
   "metadata": {},
   "outputs": [],
   "source": []
  }
 ],
 "metadata": {
  "kernelspec": {
   "display_name": "Python 3",
   "language": "python",
   "name": "python3"
  },
  "language_info": {
   "codemirror_mode": {
    "name": "ipython",
    "version": 3
   },
   "file_extension": ".py",
   "mimetype": "text/x-python",
   "name": "python",
   "nbconvert_exporter": "python",
   "pygments_lexer": "ipython3",
   "version": "3.7.6"
  }
 },
 "nbformat": 4,
 "nbformat_minor": 4
}
