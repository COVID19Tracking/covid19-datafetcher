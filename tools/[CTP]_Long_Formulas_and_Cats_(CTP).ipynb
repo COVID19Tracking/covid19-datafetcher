{
  "nbformat": 4,
  "nbformat_minor": 0,
  "metadata": {
    "colab": {
      "name": "[CTP] Long Formulas and Cats (CTP)",
      "provenance": [],
      "collapsed_sections": [],
      "include_colab_link": true
    },
    "kernelspec": {
      "name": "python3",
      "display_name": "Python 3"
    }
  },
  "cells": [
    {
      "cell_type": "markdown",
      "metadata": {
        "id": "view-in-github",
        "colab_type": "text"
      },
      "source": [
        "<a href=\"https://colab.research.google.com/github/COVID19Tracking/covid19-datafetcher/blob/master/tools/%5BCTP%5D_Long_Formulas_and_Cats_(CTP).ipynb\" target=\"_parent\"><img src=\"https://colab.research.google.com/assets/colab-badge.svg\" alt=\"Open In Colab\"/></a>"
      ]
    },
    {
      "cell_type": "markdown",
      "metadata": {
        "id": "ck6vEGz450Oo"
      },
      "source": [
        "# CTP Publish Shift: Long-long-but-easy Formulas\n",
        "\n",
        "### How to use:\n",
        "Running a specific cell:  \n",
        "click the ▶️ (play) button text to the cell, or `ctrl+Enter` the cell\n",
        "\n",
        "Running the entire notebook:  \n",
        "\"Runtime\" menu -> \"Run all\", or `ctrl-F9`\n"
      ]
    },
    {
      "cell_type": "code",
      "metadata": {
        "id": "4k8wHegJSgNe"
      },
      "source": [
        "# DE positives\n",
        "import pandas as pd\n",
        "from datetime import datetime \n",
        "print(\"Last Run\", datetime.now())\n",
        "df = pd.read_csv('https://myhealthycommunity.dhss.delaware.gov/locations/state/download_covid_19_data')\n",
        "df = df[df['Unit'] == 'tests'].set_index(['Year', 'Month', 'Day']).sort_index()\n",
        "df.loc[df.index.unique()[-3]][['Statistic', 'Value']]\n"
      ],
      "execution_count": null,
      "outputs": []
    },
    {
      "cell_type": "code",
      "metadata": {
        "id": "uTXDXCF06HYL"
      },
      "source": [
        "# HI PCR Test Encounters\n",
        "import pandas as pd\n",
        "from datetime import datetime\n",
        "print(\"Last run at: \", datetime.now())\n",
        "hi = pd.read_csv(\"https://public.tableau.com/views/EpiCurveApr4/CSVDownload.csv?:showVizHome=no\")\n",
        "hi.select_dtypes(exclude=['object']).sum()"
      ],
      "execution_count": null,
      "outputs": []
    },
    {
      "cell_type": "code",
      "metadata": {
        "id": "kEKRKE9x_99M"
      },
      "source": [
        "# ID test\n"
      ],
      "execution_count": null,
      "outputs": []
    },
    {
      "cell_type": "code",
      "metadata": {
        "id": "kd_vRxw1sM-X"
      },
      "source": [
        "# MA\n",
        "from io import StringIO, BytesIO\n",
        "from bs4 import BeautifulSoup\n",
        "import pandas as pd\n",
        "import re\n",
        "import requests\n",
        "import zipfile\n",
        "\n",
        "url = 'https://www.mass.gov/info-details/covid-19-response-reporting'\n",
        "req = requests.get(url)\n",
        "soup = BeautifulSoup(req.text, 'html.parser')\n",
        "a = soup.find('a', string=re.compile(\"COVID-19 Raw Data\"))\n",
        "link = \"https://www.mass.gov{}\".format(a['href'])\n",
        "print(\"Download link = \", link)\n",
        "res = requests.get(link)\n",
        "zipdata = BytesIO(res.content)\n",
        "zip = zipfile.ZipFile(zipdata, 'r')\n",
        "\n",
        "df = pd.read_csv(zip.open('Testing2.csv'))[['Molecular Total']].iloc[-1]\n",
        "print(\"Molecular Total People\", df.sum())\n",
        "\n",
        "df = pd.read_excel(BytesIO(zip.open('TestingByDate.xlsx', 'r').read())).filter(like=\"All Positive\")\n",
        "print(df.sum())\n",
        "\n",
        "# weekly report\n",
        "url = 'https://www.mass.gov/info-details/covid-19-response-reporting'\n",
        "req = requests.get(url)\n",
        "soup = BeautifulSoup(req.text, 'html.parser')\n",
        "a = soup.find('a', string=re.compile(\"Weekly Public Health Report - Raw\"))\n",
        "link = \"https://www.mass.gov{}\".format(a['href'])\n",
        "print(\"\\nWeekly link = \", link)\n",
        "res = requests.get(link)\n",
        "df = pd.read_excel(BytesIO(res.content), sheet_name='Antibody', parse_dates=['Test Date'], index_col='Test Date')\n",
        "print(df.sum())\n",
        "\n",
        "# ever hospitalized\n",
        "print('\\nEver Hospitalized')\n",
        "foo = pd.read_excel(BytesIO(res.content), sheet_name='RaceEthnicity')\n",
        "maxdate = foo['Date'].max()\n",
        "foo[foo['Date'] == maxdate].sum()\n"
      ],
      "execution_count": null,
      "outputs": []
    },
    {
      "cell_type": "code",
      "metadata": {
        "id": "BWch3JJp_muA"
      },
      "source": [
        "# MI Testing\n",
        "import pandas as pd\n",
        "import requests\n",
        "from bs4 import BeautifulSoup\n",
        "\n",
        "url = 'https://www.michigan.gov/coronavirus/0,9753,7-406-98163_98173---,00.html'\n",
        "\n",
        "req = requests.get(url)\n",
        "soup = BeautifulSoup(req.text, 'html.parser')\n",
        "a = soup.find('a', string=\"Diagnostic Tests by Result and County\")\n",
        "mi_link = \"https://www.michigan.gov/{}\".format(a['href'])\n",
        "print(\"Link = \", mi_link)\n",
        "\n",
        "mi = pd.read_excel(mi_link).drop(columns=['COUNTY'])\n",
        "mi.sum()"
      ],
      "execution_count": null,
      "outputs": []
    },
    {
      "cell_type": "code",
      "metadata": {
        "id": "9OSvTRWaCVMe"
      },
      "source": [
        "# NC Antigen tests\n",
        "import pandas as pd\n",
        "nc = pd.read_csv(\"https://public.tableau.com/views/NCDHHS_COVID-19_DataDownload/DailyTestingMetrics.csv\", parse_dates=['Date'], index_col='Date', thousands=',')\n",
        "nc.pivot(columns='Measure Names').sum().astype('int64')"
      ],
      "execution_count": null,
      "outputs": []
    },
    {
      "cell_type": "code",
      "metadata": {
        "id": "EbhBQp-s8Gsf"
      },
      "source": [
        "# ND Negatives\n",
        "import pandas as pd\n",
        "import requests\n",
        "from io import StringIO\n",
        "\n",
        "url = \"https://static.dwcdn.net/data/NVwou.csv\"\n",
        "headers = {\"User-Agent\": \"Mozilla/5.0 (X11; Ubuntu; Linux x86_64; rv:79.0) Gecko/20100101 Firefox/79.0\"}\n",
        "req = requests.get(url, headers=headers)\n",
        "data = StringIO(req.text)\n",
        "\n",
        "nd = pd.read_csv(data)\n",
        "nd.sum()"
      ],
      "execution_count": null,
      "outputs": []
    },
    {
      "cell_type": "code",
      "metadata": {
        "id": "Bg7vXW9cAr-z"
      },
      "source": [
        "# ND other stuff:\n",
        "import pandas as pd\n",
        "nd = pd.read_csv(\"https://www.health.nd.gov/sites/www/files/documents/Files/MSS/coronavirus/charts-data/CovidTracking.csv\")\n",
        "nd.sum()['Total PCR tests (susceptible test encounters)']"
      ],
      "execution_count": null,
      "outputs": []
    },
    {
      "cell_type": "code",
      "metadata": {
        "id": "LLEuQsoO-kiq"
      },
      "source": [
        "# TX\n",
        "import pandas as pd\n",
        "url = 'https://www.dshs.texas.gov/coronavirus/TexasCOVID-19HospitalizationsOverTimebyTSA.xlsx'\n",
        "df = pd.read_excel(url, sheet_name='COVID-19 ICU', skiprows=2)\n",
        "print(\"ICU\")\n",
        "df.loc[df[df.columns[0]] == 'Total'][df.columns[-1]]"
      ],
      "execution_count": null,
      "outputs": []
    },
    {
      "cell_type": "code",
      "metadata": {
        "id": "EIa0qeGfCY2f"
      },
      "source": [
        "# UT \n",
        "from io import StringIO, BytesIO\n",
        "import pandas as pd\n",
        "import requests\n",
        "import zipfile\n",
        "\n",
        "url = 'https://coronavirus-dashboard.utah.gov/Utah_COVID19_data.zip'\n",
        "res = requests.get(url)\n",
        "zipdata = BytesIO(res.content)\n",
        "zip = zipfile.ZipFile(zipdata, 'r')\n",
        "for zf in zip.filelist:\n",
        "  if zf.filename.startswith('Overview_Total Tests by Date'):\n",
        "    # yay, the testing file\n",
        "    title = 'Tests'\n",
        "  elif zf.filename.startswith('Overview_Number of People Tested by Date'):\n",
        "    title = 'People'\n",
        "  else:\n",
        "    title = None\n",
        "  if title:\n",
        "    title = \"Metrics for {} (from {})\".format(title, zf.filename)\n",
        "    print(title, \"\\n\"+\"=\"*len(title))\n",
        "    df = pd.read_csv(zip.open(zf.filename)).drop(columns=[' Total Daily Tests', 'Total Positive Tests', 'Daily People Tested', 'Daily Positive Tests'], errors=\"ignore\")\n",
        "    print(df.groupby(['Test Type', 'Result']).sum())"
      ],
      "execution_count": null,
      "outputs": []
    },
    {
      "cell_type": "code",
      "metadata": {
        "id": "VjTPEvO37JfF"
      },
      "source": [
        "# WI PCR Testing Encounters\n",
        "import pandas as pd\n",
        "from datetime import datetime\n",
        "print(\"Last run at: \", datetime.now().isoformat())\n",
        "wi = pd.read_csv(\"https://bi.wisconsin.gov/t/DHS/views/PercentPositivebyTestPersonandaComparisonandTestCapacity/TestCapacityDashboard.csv\", thousands=\",\")\n",
        "wi[wi['Measure Names'] == 'Total people tested daily']['Totals'].sum()"
      ],
      "execution_count": null,
      "outputs": []
    }
  ]
}