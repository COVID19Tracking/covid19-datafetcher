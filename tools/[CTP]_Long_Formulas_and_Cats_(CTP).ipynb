{
  "nbformat": 4,
  "nbformat_minor": 0,
  "metadata": {
    "colab": {
      "name": "[CTP] Long Formulas and Cats (CTP)",
      "provenance": [],
      "collapsed_sections": [],
      "include_colab_link": true
    },
    "kernelspec": {
      "name": "python3",
      "display_name": "Python 3"
    }
  },
  "cells": [
    {
      "cell_type": "markdown",
      "metadata": {
        "id": "view-in-github",
        "colab_type": "text"
      },
      "source": [
        "<a href=\"https://colab.research.google.com/github/COVID19Tracking/covid19-datafetcher/blob/master/tools/%5BCTP%5D_Long_Formulas_and_Cats_(CTP).ipynb\" target=\"_parent\"><img src=\"https://colab.research.google.com/assets/colab-badge.svg\" alt=\"Open In Colab\"/></a>"
      ]
    },
    {
      "cell_type": "markdown",
      "metadata": {
        "id": "ck6vEGz450Oo"
      },
      "source": [
        "# CTP Publish Shift: Long-long-but-easy Formulas\n",
        "\n",
        "### How to use:\n",
        "Running a specific cell:  \n",
        "click the ▶️ (play) button text to the cell, or `ctrl+Enter` the cell\n",
        "\n",
        "Running the entire notebook:  \n",
        "\"Runtime\" menu -> \"Run all\", or `ctrl-F9`\n"
      ]
    },
    {
      "cell_type": "code",
      "metadata": {
        "id": "4k8wHegJSgNe",
        "outputId": "45a2dc1c-42e2-4241-920f-c65a9f4101f2",
        "colab": {
          "base_uri": "https://localhost:8080/",
          "height": 161
        }
      },
      "source": [
        "# DE positives\n",
        "import pandas as pd\n",
        "from datetime import datetime \n",
        "print(\"Last Run\", datetime.now())\n",
        "df = pd.read_csv('https://myhealthycommunity.dhss.delaware.gov/locations/state/download_covid_19_data')\n",
        "df = df[df['Unit'] == 'tests'].set_index(['Year', 'Month', 'Day']).sort_index()\n",
        "df.loc[df.index.unique()[-3]][['Statistic', 'Value']]\n"
      ],
      "execution_count": 4,
      "outputs": [
        {
          "output_type": "stream",
          "text": [
            "Last Run 2020-11-17 20:26:44.198226\n"
          ],
          "name": "stdout"
        },
        {
          "output_type": "execute_result",
          "data": {
            "text/html": [
              "<div>\n",
              "<style scoped>\n",
              "    .dataframe tbody tr th:only-of-type {\n",
              "        vertical-align: middle;\n",
              "    }\n",
              "\n",
              "    .dataframe tbody tr th {\n",
              "        vertical-align: top;\n",
              "    }\n",
              "\n",
              "    .dataframe thead th {\n",
              "        text-align: right;\n",
              "    }\n",
              "</style>\n",
              "<table border=\"1\" class=\"dataframe\">\n",
              "  <thead>\n",
              "    <tr style=\"text-align: right;\">\n",
              "      <th></th>\n",
              "      <th></th>\n",
              "      <th></th>\n",
              "      <th>Statistic</th>\n",
              "      <th>Value</th>\n",
              "    </tr>\n",
              "    <tr>\n",
              "      <th>Year</th>\n",
              "      <th>Month</th>\n",
              "      <th>Day</th>\n",
              "      <th></th>\n",
              "      <th></th>\n",
              "    </tr>\n",
              "  </thead>\n",
              "  <tbody>\n",
              "    <tr>\n",
              "      <th rowspan=\"2\" valign=\"top\">2020</th>\n",
              "      <th rowspan=\"2\" valign=\"top\">11</th>\n",
              "      <th>14</th>\n",
              "      <td>Positive Tests</td>\n",
              "      <td>30580.0</td>\n",
              "    </tr>\n",
              "    <tr>\n",
              "      <th>14</th>\n",
              "      <td>Total Tests</td>\n",
              "      <td>634013.0</td>\n",
              "    </tr>\n",
              "  </tbody>\n",
              "</table>\n",
              "</div>"
            ],
            "text/plain": [
              "                     Statistic     Value\n",
              "Year Month Day                          \n",
              "2020 11    14   Positive Tests   30580.0\n",
              "           14      Total Tests  634013.0"
            ]
          },
          "metadata": {
            "tags": []
          },
          "execution_count": 4
        }
      ]
    },
    {
      "cell_type": "code",
      "metadata": {
        "id": "uTXDXCF06HYL",
        "outputId": "0c9e5349-6258-4021-9c7f-68237305e419",
        "colab": {
          "base_uri": "https://localhost:8080/"
        }
      },
      "source": [
        "# HI PCR Test Encounters\n",
        "import pandas as pd\n",
        "from datetime import datetime\n",
        "print(\"Last run at: \", datetime.now())\n",
        "hi = pd.read_csv(\"https://public.tableau.com/views/EpiCurveApr4/CSVDownload.csv?:showVizHome=no\")\n",
        "hi.select_dtypes(exclude=['object']).sum()"
      ],
      "execution_count": null,
      "outputs": [
        {
          "output_type": "stream",
          "text": [
            "Last run at:  2020-11-03 22:05:38.137102\n"
          ],
          "name": "stdout"
        },
        {
          "output_type": "execute_result",
          "data": {
            "text/plain": [
              "New Cases                 15146\n",
              "New Positive Tests        15167\n",
              "Total Test Encounters    537421\n",
              "dtype: int64"
            ]
          },
          "metadata": {
            "tags": []
          },
          "execution_count": 3
        }
      ]
    },
    {
      "cell_type": "code",
      "metadata": {
        "id": "kEKRKE9x_99M"
      },
      "source": [
        "# ID test\n"
      ],
      "execution_count": null,
      "outputs": []
    },
    {
      "cell_type": "code",
      "metadata": {
        "id": "kd_vRxw1sM-X",
        "outputId": "a07c73f1-6fbf-4701-e7a2-8ec1467be5da",
        "colab": {
          "base_uri": "https://localhost:8080/"
        }
      },
      "source": [
        "# MA\n",
        "from io import StringIO, BytesIO\n",
        "from bs4 import BeautifulSoup\n",
        "import pandas as pd\n",
        "import re\n",
        "import requests\n",
        "import zipfile\n",
        "\n",
        "url = 'https://www.mass.gov/info-details/covid-19-response-reporting'\n",
        "req = requests.get(url)\n",
        "soup = BeautifulSoup(req.text, 'html.parser')\n",
        "a = soup.find('a', string=re.compile(\"COVID-19 Raw Data\"))\n",
        "link = \"https://www.mass.gov{}\".format(a['href'])\n",
        "print(\"Download link = \", link)\n",
        "res = requests.get(link)\n",
        "zipdata = BytesIO(res.content)\n",
        "zip = zipfile.ZipFile(zipdata, 'r')\n",
        "\n",
        "df = pd.read_csv(zip.open('Testing2.csv'))[['Molecular Total']].iloc[-1]\n",
        "print(\"Molecular Total People\", df.sum())\n",
        "\n",
        "df = pd.read_excel(BytesIO(zip.open('TestingByDate.xlsx', 'r').read())).filter(like=\"All Positive\")\n",
        "print(df.sum())\n",
        "\n",
        "# weekly report\n",
        "url = 'https://www.mass.gov/info-details/covid-19-response-reporting'\n",
        "req = requests.get(url)\n",
        "soup = BeautifulSoup(req.text, 'html.parser')\n",
        "a = soup.find('a', string=re.compile(\"Weekly Public Health Report - Raw\"))\n",
        "link = \"https://www.mass.gov{}\".format(a['href'])\n",
        "print(\"\\nWeekly link = \", link)\n",
        "res = requests.get(link)\n",
        "df = pd.read_excel(BytesIO(res.content), sheet_name='Antibody', parse_dates=['Test Date'], index_col='Test Date')\n",
        "print(df.sum())\n",
        "\n",
        "# ever hospitalized\n",
        "print('\\nEver Hospitalized')\n",
        "foo = pd.read_excel(BytesIO(res.content), sheet_name='RaceEthnicity')\n",
        "maxdate = foo['Date'].max()\n",
        "foo[foo['Date'] == maxdate].sum()\n"
      ],
      "execution_count": null,
      "outputs": [
        {
          "output_type": "stream",
          "text": [
            "Download link =  https://www.mass.gov/doc/covid-19-raw-data-november-15-2020/download\n",
            "Molecular Total People 3037193\n",
            "All Positive Molecular Tests                         232360.0\n",
            "All Positive Molecular Tests_Higher Ed ONLY            3044.0\n",
            "All Positive Molecular Tests_MA without Higher ED     77890.0\n",
            "dtype: float64\n",
            "\n",
            "Weekly link =  https://www.mass.gov/doc/weekly-public-health-report-raw-data-november-12-2020/download\n",
            "Positive Tests                            11910.0\n",
            "Total Tests                              129352.0\n",
            "Unnamed: 3                                    0.0\n",
            "DATA CURRENT AS OF 8:00AM ON 11/11/20         0.0\n",
            "dtype: float64\n",
            "\n",
            "Ever Hospitalized\n"
          ],
          "name": "stdout"
        },
        {
          "output_type": "execute_result",
          "data": {
            "text/plain": [
              "Race/Ethnicity        Non-Hispanic WhiteNon-Hispanic Black/African A...\n",
              "All Cases                                                        177541\n",
              "Ever Hospitaltized                                                13588\n",
              "Deaths                                                            10222\n",
              "dtype: object"
            ]
          },
          "metadata": {
            "tags": []
          },
          "execution_count": 2
        }
      ]
    },
    {
      "cell_type": "code",
      "metadata": {
        "id": "BWch3JJp_muA",
        "outputId": "a2486c15-def5-41e9-b356-6d8af3112fc7",
        "colab": {
          "base_uri": "https://localhost:8080/"
        }
      },
      "source": [
        "# MI Testing\n",
        "import pandas as pd\n",
        "import requests\n",
        "from bs4 import BeautifulSoup\n",
        "\n",
        "url = 'https://www.michigan.gov/coronavirus/0,9753,7-406-98163_98173---,00.html'\n",
        "\n",
        "req = requests.get(url)\n",
        "soup = BeautifulSoup(req.text, 'html.parser')\n",
        "a = soup.find('a', string=\"Diagnostic Tests by Result and County\")\n",
        "mi_link = \"https://www.michigan.gov/{}\".format(a['href'])\n",
        "print(\"Link = \", mi_link)\n",
        "\n",
        "mi = pd.read_excel(mi_link).drop(columns=['COUNTY'])\n",
        "mi.sum()"
      ],
      "execution_count": null,
      "outputs": [
        {
          "output_type": "stream",
          "text": [
            "Link =  https://www.michigan.gov//documents/coronavirus/Diagnostic_Tests_by_Result_and_County_2020-11-03_706793_7.xlsx\n"
          ],
          "name": "stdout"
        },
        {
          "output_type": "execute_result",
          "data": {
            "text/plain": [
              "Negative    4842727\n",
              "Positive     249953\n",
              "Total       5092680\n",
              "dtype: int64"
            ]
          },
          "metadata": {
            "tags": []
          },
          "execution_count": 1
        }
      ]
    },
    {
      "cell_type": "code",
      "metadata": {
        "id": "9OSvTRWaCVMe",
        "outputId": "769d4359-77d3-44e6-d72a-6c03e22a11db",
        "colab": {
          "base_uri": "https://localhost:8080/",
          "height": 119
        }
      },
      "source": [
        "# NC Antigen tests\n",
        "import pandas as pd\n",
        "nc = pd.read_csv(\"https://public.tableau.com/views/NCDHHS_COVID-19_DataDownload/DailyTestingMetrics.csv\", parse_dates=['Date'], index_col='Date', thousands=',')\n",
        "nc.pivot(columns='Measure Names').sum().astype('int64')"
      ],
      "execution_count": null,
      "outputs": [
        {
          "output_type": "execute_result",
          "data": {
            "text/plain": [
              "                Measure Names           \n",
              "Measure Values  Antigen Tests                 23444\n",
              "                Daily Tests Total           3890764\n",
              "                Molecular (PCR) Tests       1036326\n",
              "                Positive Test Percentage         15\n",
              "dtype: int64"
            ]
          },
          "metadata": {
            "tags": []
          },
          "execution_count": 2
        }
      ]
    },
    {
      "cell_type": "code",
      "metadata": {
        "id": "EbhBQp-s8Gsf",
        "outputId": "d5833844-2a7c-48c4-966a-7db424eeb5e3",
        "colab": {
          "base_uri": "https://localhost:8080/"
        }
      },
      "source": [
        "# ND Negatives\n",
        "import pandas as pd\n",
        "import requests\n",
        "from io import StringIO\n",
        "\n",
        "url = \"https://static.dwcdn.net/data/NVwou.csv\"\n",
        "headers = {\"User-Agent\": \"Mozilla/5.0 (X11; Ubuntu; Linux x86_64; rv:79.0) Gecko/20100101 Firefox/79.0\"}\n",
        "req = requests.get(url, headers=headers)\n",
        "data = StringIO(req.text)\n",
        "\n",
        "nd = pd.read_csv(data)\n",
        "nd.sum()"
      ],
      "execution_count": null,
      "outputs": [
        {
          "output_type": "execute_result",
          "data": {
            "text/plain": [
              "County                       AdamsBarnesBensonBillingsBottineauBowmanBurkeB...\n",
              "Total Positive                                                           64885\n",
              "Total Negative                                                          260606\n",
              "Unique Individuals Tested                                               325491\n",
              "Total Recovered                                                          53242\n",
              "Deaths                                                                     743\n",
              "dtype: object"
            ]
          },
          "metadata": {
            "tags": []
          },
          "execution_count": 1
        }
      ]
    },
    {
      "cell_type": "code",
      "metadata": {
        "id": "Bg7vXW9cAr-z",
        "outputId": "0478cfb9-efb4-450b-c1ed-8a95d356d5e9",
        "colab": {
          "base_uri": "https://localhost:8080/",
          "height": 34
        }
      },
      "source": [
        "# ND other stuff:\n",
        "import pandas as pd\n",
        "nd = pd.read_csv(\"https://www.health.nd.gov/sites/www/files/documents/Files/MSS/coronavirus/charts-data/CovidTracking.csv\")\n",
        "nd.sum()['Total PCR tests (susceptible test encounters)']"
      ],
      "execution_count": null,
      "outputs": [
        {
          "output_type": "execute_result",
          "data": {
            "text/plain": [
              "726186"
            ]
          },
          "metadata": {
            "tags": []
          },
          "execution_count": 3
        }
      ]
    },
    {
      "cell_type": "code",
      "metadata": {
        "id": "LLEuQsoO-kiq",
        "outputId": "1c80914f-ed4c-42e4-f4fe-6e68c11c129a",
        "colab": {
          "base_uri": "https://localhost:8080/"
        }
      },
      "source": [
        "# TX\n",
        "import pandas as pd\n",
        "url = 'https://www.dshs.texas.gov/coronavirus/TexasCOVID-19HospitalizationsOverTimebyTSA.xlsx'\n",
        "df = pd.read_excel(url, sheet_name='COVID-19 ICU', skiprows=2)\n",
        "print(\"ICU\")\n",
        "df.loc[df[df.columns[0]] == 'Total'][df.columns[-1]]"
      ],
      "execution_count": null,
      "outputs": [
        {
          "output_type": "stream",
          "text": [
            "ICU\n"
          ],
          "name": "stdout"
        },
        {
          "output_type": "execute_result",
          "data": {
            "text/plain": [
              "22    1879.0\n",
              "Name: 2020-11-11, dtype: float64"
            ]
          },
          "metadata": {
            "tags": []
          },
          "execution_count": 23
        }
      ]
    },
    {
      "cell_type": "code",
      "metadata": {
        "id": "EIa0qeGfCY2f",
        "outputId": "ebabe0df-2a02-473b-a628-c06668fc86cb",
        "colab": {
          "base_uri": "https://localhost:8080/"
        }
      },
      "source": [
        "# UT \n",
        "from io import StringIO, BytesIO\n",
        "import pandas as pd\n",
        "import requests\n",
        "import zipfile\n",
        "\n",
        "url = 'https://coronavirus-dashboard.utah.gov/Utah_COVID19_data.zip'\n",
        "res = requests.get(url)\n",
        "zipdata = BytesIO(res.content)\n",
        "zip = zipfile.ZipFile(zipdata, 'r')\n",
        "for zf in zip.filelist:\n",
        "  if zf.filename.startswith('Overview_Total Tests by Date'):\n",
        "    # yay, the testing file\n",
        "    title = 'Tests'\n",
        "  elif zf.filename.startswith('Overview_Number of People Tested by Date'):\n",
        "    title = 'People'\n",
        "  else:\n",
        "    title = None\n",
        "  if title:\n",
        "    title = \"Metrics for {} (from {})\".format(title, zf.filename)\n",
        "    print(title, \"\\n\"+\"=\"*len(title))\n",
        "    df = pd.read_csv(zip.open(zf.filename)).drop(columns=[' Total Daily Tests', 'Total Positive Tests', 'Daily People Tested', 'Daily Positive Tests'], errors=\"ignore\")\n",
        "    print(df.groupby(['Test Type', 'Result']).sum())"
      ],
      "execution_count": null,
      "outputs": [
        {
          "output_type": "stream",
          "text": [
            "Metrics for People (from Overview_Number of People Tested by Date_2020-11-16.csv) \n",
            "=================================================================================\n",
            "                              Count\n",
            "Test Type         Result           \n",
            "Antigen by DFA/IF NEGATIVE    55241\n",
            "                  POSITIVE    10527\n",
            "PCR/amplification NEGATIVE  1042778\n",
            "                  POSITIVE   145712\n",
            "Metrics for Tests (from Overview_Total Tests by Date_2020-11-16.csv) \n",
            "====================================================================\n",
            "                              Count\n",
            "Test Type         Result           \n",
            "Antigen by DFA/IF NEGATIVE   128260\n",
            "                  POSITIVE    10890\n",
            "PCR/amplification NEGATIVE  1458004\n",
            "                  POSITIVE   157309\n"
          ],
          "name": "stdout"
        }
      ]
    },
    {
      "cell_type": "code",
      "metadata": {
        "id": "VjTPEvO37JfF",
        "outputId": "4f51f216-d912-4c6b-d388-3596f0eec75e",
        "colab": {
          "base_uri": "https://localhost:8080/",
          "height": 51
        }
      },
      "source": [
        "# WI PCR Testing Encounters\n",
        "import pandas as pd\n",
        "from datetime import datetime\n",
        "print(\"Last run at: \", datetime.now().isoformat())\n",
        "wi = pd.read_csv(\"https://bi.wisconsin.gov/t/DHS/views/PercentPositivebyTestPersonandaComparisonandTestCapacity/TestCapacityDashboard.csv\", thousands=\",\")\n",
        "wi[wi['Measure Names'] == 'Total people tested daily']['Totals'].sum()"
      ],
      "execution_count": null,
      "outputs": [
        {
          "output_type": "stream",
          "text": [
            "Last run at:  2020-10-21T21:48:10.156533\n"
          ],
          "name": "stdout"
        },
        {
          "output_type": "execute_result",
          "data": {
            "text/plain": [
              "2924206"
            ]
          },
          "metadata": {
            "tags": []
          },
          "execution_count": 2
        }
      ]
    }
  ]
}